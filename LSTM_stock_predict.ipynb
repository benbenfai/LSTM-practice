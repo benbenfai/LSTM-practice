{
  "nbformat": 4,
  "nbformat_minor": 5,
  "metadata": {
    "accelerator": "GPU",
    "colab": {
      "name": "LSTM_test.ipynb",
      "provenance": [],
      "collapsed_sections": []
    },
    "kernelspec": {
      "display_name": "Python 3",
      "name": "python3"
    },
    "language_info": {
      "name": "python"
    }
  },
  "cells": [
    {
      "cell_type": "code",
      "metadata": {
        "id": "atomic-suggestion"
      },
      "source": [
        "import numpy as np\n",
        "import matplotlib.pyplot as plt\n",
        "import pandas as pd\n",
        "from sklearn.preprocessing import MinMaxScaler\n",
        "from tensorflow.keras import Sequential\n",
        "from tensorflow.keras.layers import Dense, LSTM, Dropout"
      ],
      "id": "atomic-suggestion",
      "execution_count": 1,
      "outputs": []
    },
    {
      "cell_type": "code",
      "metadata": {
        "colab": {
          "base_uri": "https://localhost:8080/"
        },
        "id": "QhYtJv3FfMTm",
        "outputId": "02bdc8d4-b5a1-4c0a-8fd4-179a4a71a3d8"
      },
      "source": [
        "from google.colab import drive\n",
        "drive.mount('/content/gdrive')"
      ],
      "id": "QhYtJv3FfMTm",
      "execution_count": 2,
      "outputs": [
        {
          "output_type": "stream",
          "text": [
            "Drive already mounted at /content/gdrive; to attempt to forcibly remount, call drive.mount(\"/content/gdrive\", force_remount=True).\n"
          ],
          "name": "stdout"
        }
      ]
    },
    {
      "cell_type": "code",
      "metadata": {
        "id": "stainless-mirror"
      },
      "source": [
        "data = pd.read_csv('/content/gdrive/My Drive/TSLA.csv', date_parser = True)"
      ],
      "id": "stainless-mirror",
      "execution_count": 3,
      "outputs": []
    },
    {
      "cell_type": "code",
      "metadata": {
        "id": "lucky-joint"
      },
      "source": [
        "data_training = data[data['Date']<'2020-01-01'].copy()\n",
        "data_test = data[data['Date']>='2020-01-01'].copy()"
      ],
      "id": "lucky-joint",
      "execution_count": 4,
      "outputs": []
    },
    {
      "cell_type": "code",
      "metadata": {
        "id": "varying-stamp"
      },
      "source": [
        "data_training = data_training.drop(['Date', 'Adj Close'], axis = 1)\n",
        "data_test = data_test.drop(['Date', 'Adj Close'], axis = 1)"
      ],
      "id": "varying-stamp",
      "execution_count": 5,
      "outputs": []
    },
    {
      "cell_type": "code",
      "metadata": {
        "id": "HsCZsNz2Jti8"
      },
      "source": [
        "past_30_days = data_training.tail(30)\n",
        "df = past_30_days.append(data_test)"
      ],
      "id": "HsCZsNz2Jti8",
      "execution_count": 6,
      "outputs": []
    },
    {
      "cell_type": "code",
      "metadata": {
        "id": "pursuant-penny"
      },
      "source": [
        "scaler = MinMaxScaler()\n",
        "data_training = scaler.fit_transform(data_training)\n",
        "#data_training"
      ],
      "id": "pursuant-penny",
      "execution_count": 7,
      "outputs": []
    },
    {
      "cell_type": "code",
      "metadata": {
        "id": "official-incident"
      },
      "source": [
        "X_train = []\n",
        "y_train = []\n",
        "\n",
        "for i in range(30, data_training.shape[0]):\n",
        "    X_train.append(data_training[i-30:i])\n",
        "    y_train.append(data_training[i, 0])\n",
        "    \n",
        "X_train, y_train = np.array(X_train), np.array(y_train)"
      ],
      "id": "official-incident",
      "execution_count": 8,
      "outputs": []
    },
    {
      "cell_type": "code",
      "metadata": {
        "colab": {
          "base_uri": "https://localhost:8080/"
        },
        "id": "studied-newspaper",
        "outputId": "9ea0384f-e64d-450a-f1c8-47f89f329058"
      },
      "source": [
        "X_train.shape"
      ],
      "id": "studied-newspaper",
      "execution_count": 9,
      "outputs": [
        {
          "output_type": "execute_result",
          "data": {
            "text/plain": [
              "(2364, 30, 5)"
            ]
          },
          "metadata": {
            "tags": []
          },
          "execution_count": 9
        }
      ]
    },
    {
      "cell_type": "code",
      "metadata": {
        "colab": {
          "base_uri": "https://localhost:8080/"
        },
        "id": "stainless-winner",
        "outputId": "6f700fe9-fe5f-47c6-94f9-8b68334afe79"
      },
      "source": [
        "regressor = Sequential()\n",
        "\n",
        "regressor.add(LSTM(units = 30, activation = 'relu', return_sequences = True, input_shape = (X_train.shape[1], X_train.shape[2])))\n",
        "#regressor.add(Dropout(0.2))\n",
        "\n",
        "regressor.add(LSTM(units = 30, activation = 'relu', return_sequences = True))\n",
        "#regressor.add(Dropout(0.2))\n",
        "\n",
        "regressor.add(LSTM(units = 30, activation = 'relu', return_sequences = True))\n",
        "#regressor.add(Dropout(0.2))\n",
        "\n",
        "regressor.add(LSTM(units = 30, activation = 'relu'))\n",
        "#regressor.add(Dropout(0.2))\n",
        "\n",
        "regressor.add(Dense(units = 1))"
      ],
      "id": "stainless-winner",
      "execution_count": 10,
      "outputs": [
        {
          "output_type": "stream",
          "text": [
            "WARNING:tensorflow:Layer lstm will not use cuDNN kernel since it doesn't meet the cuDNN kernel criteria. It will use generic GPU kernel as fallback when running on GPU\n",
            "WARNING:tensorflow:Layer lstm_1 will not use cuDNN kernel since it doesn't meet the cuDNN kernel criteria. It will use generic GPU kernel as fallback when running on GPU\n",
            "WARNING:tensorflow:Layer lstm_2 will not use cuDNN kernel since it doesn't meet the cuDNN kernel criteria. It will use generic GPU kernel as fallback when running on GPU\n",
            "WARNING:tensorflow:Layer lstm_3 will not use cuDNN kernel since it doesn't meet the cuDNN kernel criteria. It will use generic GPU kernel as fallback when running on GPU\n"
          ],
          "name": "stdout"
        }
      ]
    },
    {
      "cell_type": "code",
      "metadata": {
        "id": "figured-huntington",
        "colab": {
          "base_uri": "https://localhost:8080/"
        },
        "outputId": "fba35b1c-c451-4e4e-b9e6-0eda5222309a"
      },
      "source": [
        "regressor.summary()"
      ],
      "id": "figured-huntington",
      "execution_count": 11,
      "outputs": [
        {
          "output_type": "stream",
          "text": [
            "Model: \"sequential\"\n",
            "_________________________________________________________________\n",
            "Layer (type)                 Output Shape              Param #   \n",
            "=================================================================\n",
            "lstm (LSTM)                  (None, 30, 30)            4320      \n",
            "_________________________________________________________________\n",
            "lstm_1 (LSTM)                (None, 30, 30)            7320      \n",
            "_________________________________________________________________\n",
            "lstm_2 (LSTM)                (None, 30, 30)            7320      \n",
            "_________________________________________________________________\n",
            "lstm_3 (LSTM)                (None, 30)                7320      \n",
            "_________________________________________________________________\n",
            "dense (Dense)                (None, 1)                 31        \n",
            "=================================================================\n",
            "Total params: 26,311\n",
            "Trainable params: 26,311\n",
            "Non-trainable params: 0\n",
            "_________________________________________________________________\n"
          ],
          "name": "stdout"
        }
      ]
    },
    {
      "cell_type": "code",
      "metadata": {
        "colab": {
          "base_uri": "https://localhost:8080/"
        },
        "id": "precise-place",
        "outputId": "e9c2cafa-3c35-4a7a-fda7-191afeb11344"
      },
      "source": [
        "regressor.compile(optimizer='adam', loss = 'mean_squared_error')\n",
        "regressor.fit(X_train, y_train, epochs=50, batch_size=32)"
      ],
      "id": "precise-place",
      "execution_count": 12,
      "outputs": [
        {
          "output_type": "stream",
          "text": [
            "Epoch 1/50\n",
            "74/74 [==============================] - 16s 163ms/step - loss: 0.0783\n",
            "Epoch 2/50\n",
            "74/74 [==============================] - 13s 178ms/step - loss: 0.0024\n",
            "Epoch 3/50\n",
            "74/74 [==============================] - 12s 160ms/step - loss: 0.0022\n",
            "Epoch 4/50\n",
            "74/74 [==============================] - 11s 154ms/step - loss: 0.0022\n",
            "Epoch 5/50\n",
            "74/74 [==============================] - 11s 152ms/step - loss: 0.0018\n",
            "Epoch 6/50\n",
            "74/74 [==============================] - 13s 182ms/step - loss: 0.0020\n",
            "Epoch 7/50\n",
            "74/74 [==============================] - 11s 145ms/step - loss: 0.0016\n",
            "Epoch 8/50\n",
            "74/74 [==============================] - 12s 156ms/step - loss: 0.0014\n",
            "Epoch 9/50\n",
            "74/74 [==============================] - 12s 165ms/step - loss: 0.0013\n",
            "Epoch 10/50\n",
            "74/74 [==============================] - 11s 152ms/step - loss: 0.0013\n",
            "Epoch 11/50\n",
            "74/74 [==============================] - 11s 148ms/step - loss: 0.0011\n",
            "Epoch 12/50\n",
            "74/74 [==============================] - 11s 150ms/step - loss: 0.0011\n",
            "Epoch 13/50\n",
            "74/74 [==============================] - 11s 151ms/step - loss: 9.5914e-04\n",
            "Epoch 14/50\n",
            "74/74 [==============================] - 12s 167ms/step - loss: 7.5373e-04\n",
            "Epoch 15/50\n",
            "74/74 [==============================] - 12s 160ms/step - loss: 8.5267e-04\n",
            "Epoch 16/50\n",
            "74/74 [==============================] - 12s 161ms/step - loss: 6.8337e-04\n",
            "Epoch 17/50\n",
            "74/74 [==============================] - 12s 157ms/step - loss: 5.3713e-04\n",
            "Epoch 18/50\n",
            "74/74 [==============================] - 13s 173ms/step - loss: 6.5532e-04\n",
            "Epoch 19/50\n",
            "74/74 [==============================] - 12s 155ms/step - loss: 4.6966e-04\n",
            "Epoch 20/50\n",
            "74/74 [==============================] - 13s 178ms/step - loss: 4.7860e-04\n",
            "Epoch 21/50\n",
            "74/74 [==============================] - 11s 153ms/step - loss: 5.8233e-04\n",
            "Epoch 22/50\n",
            "74/74 [==============================] - 11s 154ms/step - loss: 3.9674e-04\n",
            "Epoch 23/50\n",
            "74/74 [==============================] - 11s 149ms/step - loss: 3.8282e-04\n",
            "Epoch 24/50\n",
            "74/74 [==============================] - 12s 166ms/step - loss: 3.5258e-04\n",
            "Epoch 25/50\n",
            "74/74 [==============================] - 13s 175ms/step - loss: 3.1803e-04\n",
            "Epoch 26/50\n",
            "74/74 [==============================] - 12s 155ms/step - loss: 2.9620e-04\n",
            "Epoch 27/50\n",
            "74/74 [==============================] - 11s 152ms/step - loss: 3.1847e-04\n",
            "Epoch 28/50\n",
            "74/74 [==============================] - 12s 162ms/step - loss: 2.6731e-04\n",
            "Epoch 29/50\n",
            "74/74 [==============================] - 12s 156ms/step - loss: 3.3471e-04\n",
            "Epoch 30/50\n",
            "74/74 [==============================] - 13s 171ms/step - loss: 2.9824e-04\n",
            "Epoch 31/50\n",
            "74/74 [==============================] - 13s 169ms/step - loss: 2.5812e-04\n",
            "Epoch 32/50\n",
            "74/74 [==============================] - 11s 154ms/step - loss: 2.5848e-04\n",
            "Epoch 33/50\n",
            "74/74 [==============================] - 12s 161ms/step - loss: 2.1301e-04\n",
            "Epoch 34/50\n",
            "74/74 [==============================] - 12s 166ms/step - loss: 2.2939e-04\n",
            "Epoch 35/50\n",
            "74/74 [==============================] - 11s 148ms/step - loss: 2.0783e-04\n",
            "Epoch 36/50\n",
            "74/74 [==============================] - 11s 155ms/step - loss: 2.2939e-04\n",
            "Epoch 37/50\n",
            "74/74 [==============================] - 11s 152ms/step - loss: 1.9747e-04\n",
            "Epoch 38/50\n",
            "74/74 [==============================] - 11s 155ms/step - loss: 1.9413e-04\n",
            "Epoch 39/50\n",
            "74/74 [==============================] - 12s 160ms/step - loss: 2.4483e-04\n",
            "Epoch 40/50\n",
            "74/74 [==============================] - 12s 164ms/step - loss: 2.7912e-04\n",
            "Epoch 41/50\n",
            "74/74 [==============================] - 11s 151ms/step - loss: 1.9017e-04\n",
            "Epoch 42/50\n",
            "74/74 [==============================] - 11s 155ms/step - loss: 2.0256e-04\n",
            "Epoch 43/50\n",
            "74/74 [==============================] - 11s 146ms/step - loss: 1.7634e-04\n",
            "Epoch 44/50\n",
            "74/74 [==============================] - 11s 154ms/step - loss: 2.7926e-04\n",
            "Epoch 45/50\n",
            "74/74 [==============================] - 12s 164ms/step - loss: 3.2080e-04\n",
            "Epoch 46/50\n",
            "74/74 [==============================] - 12s 160ms/step - loss: 2.1589e-04\n",
            "Epoch 47/50\n",
            "74/74 [==============================] - 12s 162ms/step - loss: 2.0366e-04\n",
            "Epoch 48/50\n",
            "74/74 [==============================] - 11s 155ms/step - loss: 2.0142e-04\n",
            "Epoch 49/50\n",
            "74/74 [==============================] - 11s 154ms/step - loss: 2.2453e-04\n",
            "Epoch 50/50\n",
            "74/74 [==============================] - 12s 164ms/step - loss: 1.8604e-04\n"
          ],
          "name": "stdout"
        },
        {
          "output_type": "execute_result",
          "data": {
            "text/plain": [
              "<tensorflow.python.keras.callbacks.History at 0x7f38ec51fad0>"
            ]
          },
          "metadata": {
            "tags": []
          },
          "execution_count": 12
        }
      ]
    },
    {
      "cell_type": "code",
      "metadata": {
        "id": "aquatic-fruit"
      },
      "source": [
        "#data_test = scaler.transform(df)"
      ],
      "id": "aquatic-fruit",
      "execution_count": 13,
      "outputs": []
    },
    {
      "cell_type": "code",
      "metadata": {
        "colab": {
          "base_uri": "https://localhost:8080/"
        },
        "id": "accurate-paint",
        "scrolled": true,
        "outputId": "c51ec115-b517-43aa-cbdb-807dfbdd93c6"
      },
      "source": [
        "inputs = scaler.fit_transform(df)\n",
        "inputs"
      ],
      "id": "accurate-paint",
      "execution_count": 14,
      "outputs": [
        {
          "output_type": "execute_result",
          "data": {
            "text/plain": [
              "array([[0.00569837, 0.00524847, 0.00471359, 0.00515597, 0.03308866],\n",
              "       [0.0054149 , 0.00688847, 0.00513533, 0.00748802, 0.08994206],\n",
              "       [0.00741369, 0.00717858, 0.00557444, 0.00570166, 0.07284534],\n",
              "       ...,\n",
              "       [0.73881286, 0.73314085, 0.73443899, 0.72968503, 0.06212727],\n",
              "       [0.7292913 , 0.72141635, 0.70045152, 0.69066666, 0.07342577],\n",
              "       [0.66277407, 0.69441872, 0.67488652, 0.70304879, 0.09174357]])"
            ]
          },
          "metadata": {
            "tags": []
          },
          "execution_count": 14
        }
      ]
    },
    {
      "cell_type": "code",
      "metadata": {
        "colab": {
          "base_uri": "https://localhost:8080/"
        },
        "id": "intense-commerce",
        "outputId": "6ab6001f-79bb-426a-a083-6a711db8e6d1"
      },
      "source": [
        "X_test = []\n",
        "y_test = []\n",
        "\n",
        "for i in range(30, inputs.shape[0]):\n",
        "    X_test.append(inputs[i-30:i])\n",
        "    y_test.append(inputs[i, 0])\n",
        "\n",
        "X_test, y_test = np.array(X_test), np.array(y_test)\n",
        "X_test.shape, y_test.shape"
      ],
      "id": "intense-commerce",
      "execution_count": 15,
      "outputs": [
        {
          "output_type": "execute_result",
          "data": {
            "text/plain": [
              "((310, 30, 5), (310,))"
            ]
          },
          "metadata": {
            "tags": []
          },
          "execution_count": 15
        }
      ]
    },
    {
      "cell_type": "code",
      "metadata": {
        "id": "appreciated-flight"
      },
      "source": [
        "y_pred = regressor.predict(X_test)"
      ],
      "id": "appreciated-flight",
      "execution_count": 16,
      "outputs": []
    },
    {
      "cell_type": "code",
      "metadata": {
        "colab": {
          "base_uri": "https://localhost:8080/"
        },
        "id": "covered-trademark",
        "outputId": "b7887eba-ee87-45b5-ac26-39a7c6d9bc3c"
      },
      "source": [
        "scaler.scale_"
      ],
      "id": "covered-trademark",
      "execution_count": 17,
      "outputs": [
        {
          "output_type": "execute_result",
          "data": {
            "text/plain": [
              "array([1.21138703e-03, 1.19882799e-03, 1.24041781e-03, 1.22353190e-03,\n",
              "       3.42037036e-09])"
            ]
          },
          "metadata": {
            "tags": []
          },
          "execution_count": 17
        }
      ]
    },
    {
      "cell_type": "code",
      "metadata": {
        "colab": {
          "base_uri": "https://localhost:8080/"
        },
        "id": "multiple-breakfast",
        "outputId": "33ba0b06-bbc2-4bbc-9ab8-49a21e259b94"
      },
      "source": [
        "scale = 1/scaler.scale_[0]\n",
        "scale"
      ],
      "id": "multiple-breakfast",
      "execution_count": 18,
      "outputs": [
        {
          "output_type": "execute_result",
          "data": {
            "text/plain": [
              "825.5000080000001"
            ]
          },
          "metadata": {
            "tags": []
          },
          "execution_count": 18
        }
      ]
    },
    {
      "cell_type": "code",
      "metadata": {
        "id": "chubby-constitution"
      },
      "source": [
        "y_pred = y_pred*scale\n",
        "y_test = y_test*scale"
      ],
      "id": "chubby-constitution",
      "execution_count": 19,
      "outputs": []
    },
    {
      "cell_type": "code",
      "metadata": {
        "id": "7i5OVnI_s5xc"
      },
      "source": [
        "#y_pred"
      ],
      "id": "7i5OVnI_s5xc",
      "execution_count": 22,
      "outputs": []
    },
    {
      "cell_type": "code",
      "metadata": {
        "colab": {
          "base_uri": "https://localhost:8080/",
          "height": 350
        },
        "id": "parental-secret",
        "outputId": "f07105a2-533d-4e0c-98b8-406c8bf04a3f"
      },
      "source": [
        "# Visualising the results\n",
        "plt.figure(figsize=(14,5))\n",
        "plt.plot(y_test, color = 'red', label = 'Real Stock Price')\n",
        "plt.plot(y_pred, color = 'blue', label = 'Predicted Stock Price')\n",
        "plt.title('Stock Price Prediction')\n",
        "plt.xlabel('Time')\n",
        "plt.ylabel('Stock Price')\n",
        "plt.legend()\n",
        "plt.show()"
      ],
      "id": "parental-secret",
      "execution_count": 21,
      "outputs": [
        {
          "output_type": "display_data",
          "data": {
            "image/png": "[encoded data removed]",
            "text/plain": [
              "<Figure size 1008x360 with 1 Axes>"
            ]
          },
          "metadata": {
            "tags": [],
            "needs_background": "light"
          }
        }
      ]
    },
    {
      "cell_type": "code",
      "metadata": {
        "id": "tracked-scottish"
      },
      "source": [
        ""
      ],
      "id": "tracked-scottish",
      "execution_count": 21,
      "outputs": []
    }
  ]
}