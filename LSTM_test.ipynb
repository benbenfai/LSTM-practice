{
  "nbformat": 4,
  "nbformat_minor": 5,
  "metadata": {
    "accelerator": "GPU",
    "colab": {
      "name": "LSTM_pred_v2.ipynb",
      "provenance": [],
      "collapsed_sections": []
    },
    "kernelspec": {
      "display_name": "Python 3",
      "name": "python3"
    },
    "language_info": {
      "name": "python"
    }
  },
  "cells": [
    {
      "cell_type": "code",
      "metadata": {
        "id": "0DTCp-N24CPg"
      },
      "source": [
        "!pip install -q -U keras-tuner"
      ],
      "id": "0DTCp-N24CPg",
      "execution_count": 1,
      "outputs": []
    },
    {
      "cell_type": "code",
      "metadata": {
        "id": "atomic-suggestion"
      },
      "source": [
        "import numpy as np\n",
        "import matplotlib.pyplot as plt\n",
        "import pandas as pd\n",
        "from sklearn.preprocessing import MinMaxScaler\n",
        "from datetime import datetime\n",
        "import tensorflow as tf\n",
        "from tensorflow import keras\n",
        "from tensorflow.keras import regularizers\n",
        "import kerastuner as kt\n",
        "from keras.layers.advanced_activations import PReLU\n",
        "from tensorflow.keras.layers import BatchNormalization\n",
        "from keras.layers.wrappers import Bidirectional"
      ],
      "id": "atomic-suggestion",
      "execution_count": 2,
      "outputs": []
    },
    {
      "cell_type": "code",
      "metadata": {
        "colab": {
          "base_uri": "https://localhost:8080/"
        },
        "id": "QhYtJv3FfMTm",
        "outputId": "ccf593ea-b449-44e6-df78-0aa18bfd25a5"
      },
      "source": [
        "from google.colab import drive\n",
        "drive.mount('/content/gdrive')"
      ],
      "id": "QhYtJv3FfMTm",
      "execution_count": 3,
      "outputs": [
        {
          "output_type": "stream",
          "text": [
            "Drive already mounted at /content/gdrive; to attempt to forcibly remount, call drive.mount(\"/content/gdrive\", force_remount=True).\n"
          ],
          "name": "stdout"
        }
      ]
    },
    {
      "cell_type": "code",
      "metadata": {
        "id": "stainless-mirror"
      },
      "source": [
        "data = pd.read_csv('/content/gdrive/My Drive/TSLA.csv', date_parser = True)"
      ],
      "id": "stainless-mirror",
      "execution_count": 4,
      "outputs": []
    },
    {
      "cell_type": "code",
      "metadata": {
        "colab": {
          "base_uri": "https://localhost:8080/"
        },
        "id": "oxer-_bHP0-S",
        "outputId": "32c58ce2-0bc3-470f-f4ec-7f546445df5b"
      },
      "source": [
        "data.shape"
      ],
      "id": "oxer-_bHP0-S",
      "execution_count": 5,
      "outputs": [
        {
          "output_type": "execute_result",
          "data": {
            "text/plain": [
              "(2704, 7)"
            ]
          },
          "metadata": {
            "tags": []
          },
          "execution_count": 5
        }
      ]
    },
    {
      "cell_type": "code",
      "metadata": {
        "id": "lucky-joint"
      },
      "source": [
        "data_training = data[data['Date']<'2020-01-01'].copy()\n",
        "data_test = data[data['Date']>='2020-01-01'].copy()"
      ],
      "id": "lucky-joint",
      "execution_count": 6,
      "outputs": []
    },
    {
      "cell_type": "code",
      "metadata": {
        "id": "varying-stamp"
      },
      "source": [
        "data_training = data_training.drop(['Date', 'Adj Close'], axis = 1)\n",
        "data_test = data_test.drop(['Date', 'Adj Close'], axis = 1)"
      ],
      "id": "varying-stamp",
      "execution_count": 7,
      "outputs": []
    },
    {
      "cell_type": "code",
      "metadata": {
        "colab": {
          "base_uri": "https://localhost:8080/",
          "height": 81
        },
        "id": "aRgy1Gpq0BI8",
        "outputId": "efa14b83-2636-4836-ddee-b1b518c0a2e8"
      },
      "source": [
        "data_test[-1:]"
      ],
      "id": "aRgy1Gpq0BI8",
      "execution_count": 8,
      "outputs": [
        {
          "output_type": "execute_result",
          "data": {
            "text/html": [
              "<div>\n",
              "<style scoped>\n",
              "    .dataframe tbody tr th:only-of-type {\n",
              "        vertical-align: middle;\n",
              "    }\n",
              "\n",
              "    .dataframe tbody tr th {\n",
              "        vertical-align: top;\n",
              "    }\n",
              "\n",
              "    .dataframe thead th {\n",
              "        text-align: right;\n",
              "    }\n",
              "</style>\n",
              "<table border=\"1\" class=\"dataframe\">\n",
              "  <thead>\n",
              "    <tr style=\"text-align: right;\">\n",
              "      <th></th>\n",
              "      <th>Open</th>\n",
              "      <th>High</th>\n",
              "      <th>Low</th>\n",
              "      <th>Close</th>\n",
              "      <th>Volume</th>\n",
              "    </tr>\n",
              "  </thead>\n",
              "  <tbody>\n",
              "    <tr>\n",
              "      <th>2703</th>\n",
              "      <td>613.0</td>\n",
              "      <td>645.5</td>\n",
              "      <td>609.5</td>\n",
              "      <td>640.390015</td>\n",
              "      <td>39150700</td>\n",
              "    </tr>\n",
              "  </tbody>\n",
              "</table>\n",
              "</div>"
            ],
            "text/plain": [
              "       Open   High    Low       Close    Volume\n",
              "2703  613.0  645.5  609.5  640.390015  39150700"
            ]
          },
          "metadata": {
            "tags": []
          },
          "execution_count": 8
        }
      ]
    },
    {
      "cell_type": "code",
      "metadata": {
        "id": "E52WDME90Odt"
      },
      "source": [
        "day_interval=60"
      ],
      "id": "E52WDME90Odt",
      "execution_count": 9,
      "outputs": []
    },
    {
      "cell_type": "code",
      "metadata": {
        "id": "HsCZsNz2Jti8"
      },
      "source": [
        "past_30_days = data_training.tail(day_interval)\n",
        "df = past_30_days.append(data_test)"
      ],
      "id": "HsCZsNz2Jti8",
      "execution_count": 10,
      "outputs": []
    },
    {
      "cell_type": "code",
      "metadata": {
        "id": "pursuant-penny"
      },
      "source": [
        "scaler = MinMaxScaler()\n",
        "data_training = scaler.fit_transform(data_training)"
      ],
      "id": "pursuant-penny",
      "execution_count": 11,
      "outputs": []
    },
    {
      "cell_type": "code",
      "metadata": {
        "colab": {
          "base_uri": "https://localhost:8080/"
        },
        "id": "DnPCQvT7X-LV",
        "outputId": "14b6016b-e233-4832-8428-f64280dfb3d0"
      },
      "source": [
        "train_size = data_training.shape[0]\n",
        "print(train_size)"
      ],
      "id": "DnPCQvT7X-LV",
      "execution_count": 12,
      "outputs": [
        {
          "output_type": "stream",
          "text": [
            "2394\n"
          ],
          "name": "stdout"
        }
      ]
    },
    {
      "cell_type": "code",
      "metadata": {
        "id": "official-incident"
      },
      "source": [
        "X_train = []\n",
        "y_train = []\n",
        "\n",
        "for i in range(day_interval, data_training.shape[0]):\n",
        "    X_train.append(data_training[i-day_interval:i])\n",
        "    y_train.append(data_training[i, 0])\n",
        "    \n",
        "X_train, y_train = np.array(X_train), np.array(y_train)"
      ],
      "id": "official-incident",
      "execution_count": 13,
      "outputs": []
    },
    {
      "cell_type": "code",
      "metadata": {
        "colab": {
          "base_uri": "https://localhost:8080/"
        },
        "id": "studied-newspaper",
        "outputId": "13c19d30-9905-4c7b-afd2-9f8bc244d7b7"
      },
      "source": [
        "X_train.shape"
      ],
      "id": "studied-newspaper",
      "execution_count": 14,
      "outputs": [
        {
          "output_type": "execute_result",
          "data": {
            "text/plain": [
              "(2334, 60, 5)"
            ]
          },
          "metadata": {
            "tags": []
          },
          "execution_count": 14
        }
      ]
    },
    {
      "cell_type": "code",
      "metadata": {
        "colab": {
          "base_uri": "https://localhost:8080/"
        },
        "id": "Jyx_i9Lu-6A2",
        "outputId": "79d452e4-4692-4770-e0bb-260ea0020f6f"
      },
      "source": [
        "y_train.shape"
      ],
      "id": "Jyx_i9Lu-6A2",
      "execution_count": 15,
      "outputs": [
        {
          "output_type": "execute_result",
          "data": {
            "text/plain": [
              "(2334,)"
            ]
          },
          "metadata": {
            "tags": []
          },
          "execution_count": 15
        }
      ]
    },
    {
      "cell_type": "code",
      "metadata": {
        "id": "L2X-o4a93UXI"
      },
      "source": [
        "def model_builder(hp):\n",
        "  model = keras.Sequential()\n",
        "\n",
        "  hp_units = hp.Int('units', min_value=60, max_value=300, step=60)\n",
        "\n",
        "  model.add(Bidirectional(keras.layers.LSTM(units=hp_units, unroll= True, return_sequences = True, input_shape = (X_train.shape[1], X_train.shape[2]))))\n",
        "  model.add(PReLU())\n",
        "\n",
        "  model.add(Bidirectional(keras.layers.LSTM(units=hp_units, unroll= True, return_sequences = True)))\n",
        "  model.add(PReLU())\n",
        "\n",
        "  model.add(Bidirectional(keras.layers.LSTM(units=hp_units)))\n",
        "  model.add(PReLU())\n",
        "\n",
        "  model.add(keras.layers.Dense(1))\n",
        "\n",
        "  # Tune the learning rate for the optimizer\n",
        "  # Choose an optimal value from 0.01, 0.001, or 0.0001\n",
        "  hp_learning_rate = hp.Choice('learning_rate', values=[1e-2, 1e-3, 1e-4])\n",
        "\n",
        "  model.compile(optimizer=keras.optimizers.Adam(learning_rate=hp_learning_rate),\n",
        "                loss=tf.keras.losses.MeanSquaredLogarithmicError(),\n",
        "                metrics=['mse'])\n",
        "\n",
        "  return model"
      ],
      "id": "L2X-o4a93UXI",
      "execution_count": 16,
      "outputs": []
    },
    {
      "cell_type": "code",
      "metadata": {
        "colab": {
          "base_uri": "https://localhost:8080/"
        },
        "id": "p-iytv5G4RLy",
        "outputId": "519f37e2-dfdb-43de-b660-d033617f0520"
      },
      "source": [
        "tuner = kt.Hyperband(model_builder,\n",
        "            objective='val_loss',\n",
        "            max_epochs=10,\n",
        "            factor=3,\n",
        "            directory='my_dir',\n",
        "            project_name='stock_predv1')"
      ],
      "id": "p-iytv5G4RLy",
      "execution_count": 17,
      "outputs": [
        {
          "output_type": "stream",
          "text": [
            "WARNING:tensorflow:Layer lstm will not use cuDNN kernel since it doesn't meet the cuDNN kernel criteria. It will use generic GPU kernel as fallback when running on GPU\n",
            "WARNING:tensorflow:Layer lstm will not use cuDNN kernel since it doesn't meet the cuDNN kernel criteria. It will use generic GPU kernel as fallback when running on GPU\n",
            "WARNING:tensorflow:Layer lstm will not use cuDNN kernel since it doesn't meet the cuDNN kernel criteria. It will use generic GPU kernel as fallback when running on GPU\n",
            "WARNING:tensorflow:Layer lstm_1 will not use cuDNN kernel since it doesn't meet the cuDNN kernel criteria. It will use generic GPU kernel as fallback when running on GPU\n",
            "WARNING:tensorflow:Layer lstm_1 will not use cuDNN kernel since it doesn't meet the cuDNN kernel criteria. It will use generic GPU kernel as fallback when running on GPU\n",
            "WARNING:tensorflow:Layer lstm_1 will not use cuDNN kernel since it doesn't meet the cuDNN kernel criteria. It will use generic GPU kernel as fallback when running on GPU\n"
          ],
          "name": "stdout"
        }
      ]
    },
    {
      "cell_type": "code",
      "metadata": {
        "id": "m9uJJa_s4xPt"
      },
      "source": [
        "stop_early = tf.keras.callbacks.EarlyStopping(monitor='val_loss', patience=5)"
      ],
      "id": "m9uJJa_s4xPt",
      "execution_count": 18,
      "outputs": []
    },
    {
      "cell_type": "code",
      "metadata": {
        "colab": {
          "base_uri": "https://localhost:8080/"
        },
        "id": "zSufA_d-4zKl",
        "outputId": "fc310ff3-a6eb-4871-fde5-f86e2c49cb4b"
      },
      "source": [
        "tuner.search(X_train, y_train, epochs=50, validation_split=0.2, callbacks=[stop_early])\n",
        "\n",
        "# Get the optimal hyperparameters\n",
        "best_hps=tuner.get_best_hyperparameters(num_trials=1)[0]\n",
        "\n",
        "print(f\"\"\"\n",
        "The hyperparameter search is complete. The optimal number of units in the first densely-connected\n",
        "layer is {best_hps.get('units')} and the optimal learning rate for the optimizer\n",
        "is {best_hps.get('learning_rate')}.\n",
        "\"\"\")"
      ],
      "id": "zSufA_d-4zKl",
      "execution_count": 19,
      "outputs": [
        {
          "output_type": "stream",
          "text": [
            "Trial 21 Complete [00h 00m 57s]\n",
            "val_loss: 0.0006546588847413659\n",
            "\n",
            "Best val_loss So Far: 0.00043405077303759754\n",
            "Total elapsed time: 00h 18m 25s\n",
            "INFO:tensorflow:Oracle triggered exit\n",
            "\n",
            "The hyperparameter search is complete. The optimal number of units in the first densely-connected\n",
            "layer is 240 and the optimal learning rate for the optimizer\n",
            "is 0.001.\n",
            "\n"
          ],
          "name": "stdout"
        }
      ]
    },
    {
      "cell_type": "code",
      "metadata": {
        "colab": {
          "base_uri": "https://localhost:8080/"
        },
        "id": "Cz8GKKa545Jp",
        "outputId": "e66f8887-3a6c-474e-d880-953e071f437a"
      },
      "source": [
        "# Build the model with the optimal hyperparameters and train it on the data for 50 epochs\n",
        "model = tuner.hypermodel.build(best_hps)\n",
        "history = model.fit(X_train, y_train, epochs=50, validation_split=0.2)\n",
        "\n",
        "val_loss_per_epoch = history.history['val_loss']\n",
        "best_epoch = val_loss_per_epoch.index(min(val_loss_per_epoch))\n",
        "print('Best epoch: %d' % (best_epoch,))"
      ],
      "id": "Cz8GKKa545Jp",
      "execution_count": 20,
      "outputs": [
        {
          "output_type": "stream",
          "text": [
            "WARNING:tensorflow:Layer lstm will not use cuDNN kernel since it doesn't meet the cuDNN kernel criteria. It will use generic GPU kernel as fallback when running on GPU\n",
            "WARNING:tensorflow:Layer lstm will not use cuDNN kernel since it doesn't meet the cuDNN kernel criteria. It will use generic GPU kernel as fallback when running on GPU\n",
            "WARNING:tensorflow:Layer lstm will not use cuDNN kernel since it doesn't meet the cuDNN kernel criteria. It will use generic GPU kernel as fallback when running on GPU\n",
            "WARNING:tensorflow:Layer lstm_1 will not use cuDNN kernel since it doesn't meet the cuDNN kernel criteria. It will use generic GPU kernel as fallback when running on GPU\n",
            "WARNING:tensorflow:Layer lstm_1 will not use cuDNN kernel since it doesn't meet the cuDNN kernel criteria. It will use generic GPU kernel as fallback when running on GPU\n",
            "WARNING:tensorflow:Layer lstm_1 will not use cuDNN kernel since it doesn't meet the cuDNN kernel criteria. It will use generic GPU kernel as fallback when running on GPU\n",
            "Epoch 1/50\n",
            "59/59 [==============================] - 44s 161ms/step - loss: 0.0130 - mse: 0.0230 - val_loss: 9.2562e-04 - val_mse: 0.0026\n",
            "Epoch 2/50\n",
            "59/59 [==============================] - 5s 82ms/step - loss: 3.7446e-04 - mse: 8.6983e-04 - val_loss: 0.0020 - val_mse: 0.0056\n",
            "Epoch 3/50\n",
            "59/59 [==============================] - 5s 83ms/step - loss: 4.2439e-04 - mse: 0.0010 - val_loss: 9.7035e-04 - val_mse: 0.0027\n",
            "Epoch 4/50\n",
            "59/59 [==============================] - 5s 80ms/step - loss: 3.5214e-04 - mse: 8.3568e-04 - val_loss: 5.9846e-04 - val_mse: 0.0017\n",
            "Epoch 5/50\n",
            "59/59 [==============================] - 5s 81ms/step - loss: 2.5848e-04 - mse: 6.0005e-04 - val_loss: 4.5063e-04 - val_mse: 0.0013\n",
            "Epoch 6/50\n",
            "59/59 [==============================] - 5s 80ms/step - loss: 2.4245e-04 - mse: 5.8108e-04 - val_loss: 5.5262e-04 - val_mse: 0.0016\n",
            "Epoch 7/50\n",
            "59/59 [==============================] - 5s 82ms/step - loss: 1.4563e-04 - mse: 3.3668e-04 - val_loss: 5.7121e-04 - val_mse: 0.0016\n",
            "Epoch 8/50\n",
            "59/59 [==============================] - 5s 82ms/step - loss: 1.8664e-04 - mse: 4.4248e-04 - val_loss: 5.1121e-04 - val_mse: 0.0014\n",
            "Epoch 9/50\n",
            "59/59 [==============================] - 5s 82ms/step - loss: 1.9748e-04 - mse: 4.5419e-04 - val_loss: 2.9463e-04 - val_mse: 8.2694e-04\n",
            "Epoch 10/50\n",
            "59/59 [==============================] - 5s 81ms/step - loss: 1.1991e-04 - mse: 2.7436e-04 - val_loss: 2.7643e-04 - val_mse: 7.7549e-04\n",
            "Epoch 11/50\n",
            "59/59 [==============================] - 5s 82ms/step - loss: 1.3187e-04 - mse: 3.0204e-04 - val_loss: 4.4557e-04 - val_mse: 0.0013\n",
            "Epoch 12/50\n",
            "59/59 [==============================] - 5s 81ms/step - loss: 1.8427e-04 - mse: 4.3902e-04 - val_loss: 4.6260e-04 - val_mse: 0.0013\n",
            "Epoch 13/50\n",
            "59/59 [==============================] - 5s 81ms/step - loss: 1.3509e-04 - mse: 3.1515e-04 - val_loss: 2.9811e-04 - val_mse: 8.3776e-04\n",
            "Epoch 14/50\n",
            "59/59 [==============================] - 5s 82ms/step - loss: 9.1645e-05 - mse: 2.1155e-04 - val_loss: 2.1324e-04 - val_mse: 5.9565e-04\n",
            "Epoch 15/50\n",
            "59/59 [==============================] - 5s 83ms/step - loss: 1.0523e-04 - mse: 2.4259e-04 - val_loss: 2.1505e-04 - val_mse: 6.0247e-04\n",
            "Epoch 16/50\n",
            "59/59 [==============================] - 5s 81ms/step - loss: 1.9195e-04 - mse: 4.5313e-04 - val_loss: 2.4456e-04 - val_mse: 6.8809e-04\n",
            "Epoch 17/50\n",
            "59/59 [==============================] - 5s 82ms/step - loss: 1.1880e-04 - mse: 2.6421e-04 - val_loss: 2.0288e-04 - val_mse: 5.6415e-04\n",
            "Epoch 18/50\n",
            "59/59 [==============================] - 5s 81ms/step - loss: 7.6443e-05 - mse: 1.7337e-04 - val_loss: 2.0495e-04 - val_mse: 5.7582e-04\n",
            "Epoch 19/50\n",
            "59/59 [==============================] - 5s 80ms/step - loss: 6.1698e-05 - mse: 1.4045e-04 - val_loss: 2.3997e-04 - val_mse: 6.6134e-04\n",
            "Epoch 20/50\n",
            "59/59 [==============================] - 5s 81ms/step - loss: 6.3269e-05 - mse: 1.4276e-04 - val_loss: 1.8122e-04 - val_mse: 5.0291e-04\n",
            "Epoch 21/50\n",
            "59/59 [==============================] - 5s 80ms/step - loss: 6.8179e-05 - mse: 1.5958e-04 - val_loss: 1.7014e-04 - val_mse: 4.7341e-04\n",
            "Epoch 22/50\n",
            "59/59 [==============================] - 5s 80ms/step - loss: 7.6472e-05 - mse: 1.7297e-04 - val_loss: 1.7700e-04 - val_mse: 4.9292e-04\n",
            "Epoch 23/50\n",
            "59/59 [==============================] - 5s 81ms/step - loss: 7.1677e-05 - mse: 1.6573e-04 - val_loss: 2.2871e-04 - val_mse: 6.4517e-04\n",
            "Epoch 24/50\n",
            "59/59 [==============================] - 5s 81ms/step - loss: 8.8828e-05 - mse: 2.0268e-04 - val_loss: 1.6883e-04 - val_mse: 4.7062e-04\n",
            "Epoch 25/50\n",
            "59/59 [==============================] - 5s 81ms/step - loss: 1.0203e-04 - mse: 2.4009e-04 - val_loss: 2.5536e-04 - val_mse: 7.0540e-04\n",
            "Epoch 26/50\n",
            "59/59 [==============================] - 5s 80ms/step - loss: 7.7625e-05 - mse: 1.7725e-04 - val_loss: 1.5232e-04 - val_mse: 4.2166e-04\n",
            "Epoch 27/50\n",
            "59/59 [==============================] - 5s 83ms/step - loss: 8.5266e-05 - mse: 1.8723e-04 - val_loss: 1.3795e-04 - val_mse: 3.8259e-04\n",
            "Epoch 28/50\n",
            "59/59 [==============================] - 5s 82ms/step - loss: 5.7054e-05 - mse: 1.3066e-04 - val_loss: 5.1502e-04 - val_mse: 0.0014\n",
            "Epoch 29/50\n",
            "59/59 [==============================] - 5s 81ms/step - loss: 9.9715e-05 - mse: 2.2452e-04 - val_loss: 1.3143e-04 - val_mse: 3.6306e-04\n",
            "Epoch 30/50\n",
            "59/59 [==============================] - 5s 83ms/step - loss: 5.8965e-05 - mse: 1.3335e-04 - val_loss: 1.3203e-04 - val_mse: 3.6979e-04\n",
            "Epoch 31/50\n",
            "59/59 [==============================] - 5s 83ms/step - loss: 5.2191e-05 - mse: 1.1583e-04 - val_loss: 1.5105e-04 - val_mse: 4.2281e-04\n",
            "Epoch 32/50\n",
            "59/59 [==============================] - 5s 83ms/step - loss: 6.1089e-05 - mse: 1.3889e-04 - val_loss: 2.3273e-04 - val_mse: 6.5238e-04\n",
            "Epoch 33/50\n",
            "59/59 [==============================] - 5s 82ms/step - loss: 6.3289e-05 - mse: 1.4420e-04 - val_loss: 1.3866e-04 - val_mse: 3.9035e-04\n",
            "Epoch 34/50\n",
            "59/59 [==============================] - 5s 82ms/step - loss: 7.8042e-05 - mse: 1.7789e-04 - val_loss: 1.1372e-04 - val_mse: 3.1395e-04\n",
            "Epoch 35/50\n",
            "59/59 [==============================] - 5s 81ms/step - loss: 5.5024e-05 - mse: 1.2246e-04 - val_loss: 1.2436e-04 - val_mse: 3.4147e-04\n",
            "Epoch 36/50\n",
            "59/59 [==============================] - 5s 81ms/step - loss: 7.0507e-05 - mse: 1.6435e-04 - val_loss: 1.4363e-04 - val_mse: 3.9970e-04\n",
            "Epoch 37/50\n",
            "59/59 [==============================] - 5s 82ms/step - loss: 4.9717e-05 - mse: 1.0622e-04 - val_loss: 1.0061e-04 - val_mse: 2.7797e-04\n",
            "Epoch 38/50\n",
            "59/59 [==============================] - 5s 82ms/step - loss: 4.1887e-05 - mse: 9.4639e-05 - val_loss: 9.9495e-05 - val_mse: 2.7328e-04\n",
            "Epoch 39/50\n",
            "59/59 [==============================] - 5s 80ms/step - loss: 4.3567e-05 - mse: 1.0078e-04 - val_loss: 1.2383e-04 - val_mse: 3.4439e-04\n",
            "Epoch 40/50\n",
            "59/59 [==============================] - 5s 80ms/step - loss: 5.5148e-05 - mse: 1.2837e-04 - val_loss: 9.3305e-05 - val_mse: 2.5650e-04\n",
            "Epoch 41/50\n",
            "59/59 [==============================] - 5s 80ms/step - loss: 4.8615e-05 - mse: 1.0959e-04 - val_loss: 9.3558e-05 - val_mse: 2.5792e-04\n",
            "Epoch 42/50\n",
            "59/59 [==============================] - 5s 81ms/step - loss: 3.3465e-05 - mse: 7.5973e-05 - val_loss: 9.4310e-05 - val_mse: 2.5959e-04\n",
            "Epoch 43/50\n",
            "59/59 [==============================] - 5s 81ms/step - loss: 3.8391e-05 - mse: 8.4238e-05 - val_loss: 1.1710e-04 - val_mse: 3.2735e-04\n",
            "Epoch 44/50\n",
            "59/59 [==============================] - 5s 81ms/step - loss: 3.4349e-05 - mse: 7.3916e-05 - val_loss: 1.9218e-04 - val_mse: 5.3528e-04\n",
            "Epoch 45/50\n",
            "59/59 [==============================] - 5s 82ms/step - loss: 5.5415e-05 - mse: 1.2487e-04 - val_loss: 9.8076e-05 - val_mse: 2.7019e-04\n",
            "Epoch 46/50\n",
            "59/59 [==============================] - 5s 82ms/step - loss: 3.7949e-05 - mse: 8.5829e-05 - val_loss: 3.7617e-04 - val_mse: 0.0011\n",
            "Epoch 47/50\n",
            "59/59 [==============================] - 5s 81ms/step - loss: 4.9051e-05 - mse: 1.1418e-04 - val_loss: 1.7254e-04 - val_mse: 4.8066e-04\n",
            "Epoch 48/50\n",
            "59/59 [==============================] - 5s 81ms/step - loss: 4.5455e-05 - mse: 1.0310e-04 - val_loss: 1.0216e-04 - val_mse: 2.8267e-04\n",
            "Epoch 49/50\n",
            "59/59 [==============================] - 5s 82ms/step - loss: 2.8665e-05 - mse: 6.3057e-05 - val_loss: 1.0324e-04 - val_mse: 2.8522e-04\n",
            "Epoch 50/50\n",
            "59/59 [==============================] - 5s 81ms/step - loss: 4.1086e-05 - mse: 9.2819e-05 - val_loss: 1.4506e-04 - val_mse: 4.0317e-04\n",
            "Best epoch: 40\n"
          ],
          "name": "stdout"
        }
      ]
    },
    {
      "cell_type": "code",
      "metadata": {
        "id": "Uw5NBwfMybJd"
      },
      "source": [
        "logdir = \"logs/scalars/\" + datetime.now().strftime(\"%Y%m%d-%H%M%S\")\n",
        "tensorboard_callback = keras.callbacks.TensorBoard(log_dir=logdir)"
      ],
      "id": "Uw5NBwfMybJd",
      "execution_count": 21,
      "outputs": []
    },
    {
      "cell_type": "code",
      "metadata": {
        "colab": {
          "base_uri": "https://localhost:8080/"
        },
        "id": "U7GjKbcc4_C1",
        "outputId": "25ee2c37-2c3d-4f8c-c6e3-a5d3cd842fd6"
      },
      "source": [
        "hypermodel = tuner.hypermodel.build(best_hps)\n",
        "\n",
        "# Retrain the model\n",
        "hypermodel.fit(X_train, y_train, epochs=best_epoch, callbacks=[tensorboard_callback],)"
      ],
      "id": "U7GjKbcc4_C1",
      "execution_count": 22,
      "outputs": [
        {
          "output_type": "stream",
          "text": [
            "WARNING:tensorflow:Layer lstm will not use cuDNN kernel since it doesn't meet the cuDNN kernel criteria. It will use generic GPU kernel as fallback when running on GPU\n",
            "WARNING:tensorflow:Layer lstm will not use cuDNN kernel since it doesn't meet the cuDNN kernel criteria. It will use generic GPU kernel as fallback when running on GPU\n",
            "WARNING:tensorflow:Layer lstm will not use cuDNN kernel since it doesn't meet the cuDNN kernel criteria. It will use generic GPU kernel as fallback when running on GPU\n",
            "WARNING:tensorflow:Layer lstm_1 will not use cuDNN kernel since it doesn't meet the cuDNN kernel criteria. It will use generic GPU kernel as fallback when running on GPU\n",
            "WARNING:tensorflow:Layer lstm_1 will not use cuDNN kernel since it doesn't meet the cuDNN kernel criteria. It will use generic GPU kernel as fallback when running on GPU\n",
            "WARNING:tensorflow:Layer lstm_1 will not use cuDNN kernel since it doesn't meet the cuDNN kernel criteria. It will use generic GPU kernel as fallback when running on GPU\n",
            "Epoch 1/40\n",
            "73/73 [==============================] - 42s 110ms/step - loss: 0.0813 - mse: 0.1429\n",
            "Epoch 2/40\n",
            "73/73 [==============================] - 5s 73ms/step - loss: 6.5256e-04 - mse: 0.0017\n",
            "Epoch 3/40\n",
            "73/73 [==============================] - 5s 74ms/step - loss: 4.0402e-04 - mse: 0.0010\n",
            "Epoch 4/40\n",
            "73/73 [==============================] - 5s 75ms/step - loss: 2.8682e-04 - mse: 7.1924e-04\n",
            "Epoch 5/40\n",
            "73/73 [==============================] - 5s 75ms/step - loss: 2.9903e-04 - mse: 7.5431e-04\n",
            "Epoch 6/40\n",
            "73/73 [==============================] - 5s 75ms/step - loss: 2.4313e-04 - mse: 6.1060e-04\n",
            "Epoch 7/40\n",
            "73/73 [==============================] - 5s 74ms/step - loss: 1.9677e-04 - mse: 4.8657e-04\n",
            "Epoch 8/40\n",
            "73/73 [==============================] - 5s 74ms/step - loss: 1.8016e-04 - mse: 4.4822e-04\n",
            "Epoch 9/40\n",
            "73/73 [==============================] - 5s 74ms/step - loss: 1.4856e-04 - mse: 3.6446e-04\n",
            "Epoch 10/40\n",
            "73/73 [==============================] - 5s 74ms/step - loss: 1.2228e-04 - mse: 3.0483e-04\n",
            "Epoch 11/40\n",
            "73/73 [==============================] - 5s 74ms/step - loss: 1.6759e-04 - mse: 4.2695e-04\n",
            "Epoch 12/40\n",
            "73/73 [==============================] - 5s 72ms/step - loss: 1.3341e-04 - mse: 3.2420e-04\n",
            "Epoch 13/40\n",
            "73/73 [==============================] - 5s 72ms/step - loss: 1.0729e-04 - mse: 2.6778e-04\n",
            "Epoch 14/40\n",
            "73/73 [==============================] - 5s 72ms/step - loss: 1.0851e-04 - mse: 2.7219e-04\n",
            "Epoch 15/40\n",
            "73/73 [==============================] - 5s 72ms/step - loss: 1.1383e-04 - mse: 2.8335e-04\n",
            "Epoch 16/40\n",
            "73/73 [==============================] - 5s 72ms/step - loss: 1.3585e-04 - mse: 3.4002e-04\n",
            "Epoch 17/40\n",
            "73/73 [==============================] - 5s 72ms/step - loss: 1.0820e-04 - mse: 2.6751e-04\n",
            "Epoch 18/40\n",
            "73/73 [==============================] - 5s 73ms/step - loss: 1.0431e-04 - mse: 2.5568e-04\n",
            "Epoch 19/40\n",
            "73/73 [==============================] - 5s 73ms/step - loss: 1.0722e-04 - mse: 2.5757e-04\n",
            "Epoch 20/40\n",
            "73/73 [==============================] - 5s 73ms/step - loss: 7.0438e-05 - mse: 1.7173e-04\n",
            "Epoch 21/40\n",
            "73/73 [==============================] - 5s 73ms/step - loss: 1.0526e-04 - mse: 2.6136e-04\n",
            "Epoch 22/40\n",
            "73/73 [==============================] - 5s 72ms/step - loss: 7.3115e-05 - mse: 1.8194e-04\n",
            "Epoch 23/40\n",
            "73/73 [==============================] - 5s 72ms/step - loss: 8.0047e-05 - mse: 1.9956e-04\n",
            "Epoch 24/40\n",
            "73/73 [==============================] - 5s 72ms/step - loss: 7.1075e-05 - mse: 1.7672e-04\n",
            "Epoch 25/40\n",
            "73/73 [==============================] - 5s 73ms/step - loss: 8.0210e-05 - mse: 1.9829e-04\n",
            "Epoch 26/40\n",
            "73/73 [==============================] - 5s 72ms/step - loss: 6.0273e-05 - mse: 1.4591e-04\n",
            "Epoch 27/40\n",
            "73/73 [==============================] - 5s 71ms/step - loss: 6.3021e-05 - mse: 1.5199e-04\n",
            "Epoch 28/40\n",
            "73/73 [==============================] - 5s 72ms/step - loss: 8.2726e-05 - mse: 2.0495e-04\n",
            "Epoch 29/40\n",
            "73/73 [==============================] - 5s 75ms/step - loss: 6.5028e-05 - mse: 1.5896e-04\n",
            "Epoch 30/40\n",
            "73/73 [==============================] - 5s 72ms/step - loss: 5.6610e-05 - mse: 1.4178e-04\n",
            "Epoch 31/40\n",
            "73/73 [==============================] - 5s 73ms/step - loss: 6.0555e-05 - mse: 1.4793e-04\n",
            "Epoch 32/40\n",
            "73/73 [==============================] - 5s 73ms/step - loss: 1.1104e-04 - mse: 2.7196e-04\n",
            "Epoch 33/40\n",
            "73/73 [==============================] - 5s 73ms/step - loss: 5.5983e-05 - mse: 1.3843e-04\n",
            "Epoch 34/40\n",
            "73/73 [==============================] - 5s 72ms/step - loss: 4.3205e-05 - mse: 1.0464e-04\n",
            "Epoch 35/40\n",
            "73/73 [==============================] - 5s 71ms/step - loss: 6.6239e-05 - mse: 1.6313e-04\n",
            "Epoch 36/40\n",
            "73/73 [==============================] - 5s 73ms/step - loss: 6.0584e-05 - mse: 1.4895e-04\n",
            "Epoch 37/40\n",
            "73/73 [==============================] - 5s 74ms/step - loss: 5.2878e-05 - mse: 1.2995e-04\n",
            "Epoch 38/40\n",
            "73/73 [==============================] - 5s 72ms/step - loss: 5.7517e-05 - mse: 1.3865e-04\n",
            "Epoch 39/40\n",
            "73/73 [==============================] - 5s 71ms/step - loss: 5.9289e-05 - mse: 1.4526e-04\n",
            "Epoch 40/40\n",
            "73/73 [==============================] - 5s 72ms/step - loss: 5.3328e-05 - mse: 1.2808e-04\n"
          ],
          "name": "stdout"
        },
        {
          "output_type": "execute_result",
          "data": {
            "text/plain": [
              "<tensorflow.python.keras.callbacks.History at 0x7fdbd3471850>"
            ]
          },
          "metadata": {
            "tags": []
          },
          "execution_count": 22
        }
      ]
    },
    {
      "cell_type": "code",
      "metadata": {
        "colab": {
          "base_uri": "https://localhost:8080/"
        },
        "id": "accurate-paint",
        "scrolled": true,
        "outputId": "7a90404a-5adf-4073-eeee-9a133fb7dd1c"
      },
      "source": [
        "inputs = scaler.fit_transform(df)\n",
        "inputs.shape"
      ],
      "id": "accurate-paint",
      "execution_count": 23,
      "outputs": [
        {
          "output_type": "execute_result",
          "data": {
            "text/plain": [
              "(370, 5)"
            ]
          },
          "metadata": {
            "tags": []
          },
          "execution_count": 23
        }
      ]
    },
    {
      "cell_type": "code",
      "metadata": {
        "colab": {
          "base_uri": "https://localhost:8080/"
        },
        "id": "intense-commerce",
        "outputId": "4ead50b2-e7bd-42f6-a104-7775e5b6f01b"
      },
      "source": [
        "X_test = []\n",
        "y_test = []\n",
        "\n",
        "for i in range(day_interval, inputs.shape[0]):\n",
        "    X_test.append(inputs[i-day_interval:i])\n",
        "    y_test.append(inputs[i, 0])\n",
        "\n",
        "X_test, y_test = np.array(X_test), np.array(y_test)\n",
        "X_test.shape, y_test.shape"
      ],
      "id": "intense-commerce",
      "execution_count": 24,
      "outputs": [
        {
          "output_type": "execute_result",
          "data": {
            "text/plain": [
              "((310, 60, 5), (310,))"
            ]
          },
          "metadata": {
            "tags": []
          },
          "execution_count": 24
        }
      ]
    },
    {
      "cell_type": "code",
      "metadata": {
        "colab": {
          "base_uri": "https://localhost:8080/"
        },
        "id": "r6XtghYO5N2m",
        "outputId": "0eca7a52-23c5-4fc5-b9f1-065759f89742"
      },
      "source": [
        "eval_result = hypermodel.evaluate(X_test, y_test)\n",
        "print(\"[test loss, test mse]:\", eval_result)"
      ],
      "id": "r6XtghYO5N2m",
      "execution_count": 25,
      "outputs": [
        {
          "output_type": "stream",
          "text": [
            "10/10 [==============================] - 5s 35ms/step - loss: 3.8049e-04 - mse: 8.0326e-04\n",
            "[test loss, test mse]: [0.0003804894513450563, 0.0008032566984184086]\n"
          ],
          "name": "stdout"
        }
      ]
    },
    {
      "cell_type": "code",
      "metadata": {
        "id": "appreciated-flight"
      },
      "source": [
        "y_pred = model.predict(X_test)"
      ],
      "id": "appreciated-flight",
      "execution_count": 26,
      "outputs": []
    },
    {
      "cell_type": "code",
      "metadata": {
        "colab": {
          "base_uri": "https://localhost:8080/"
        },
        "id": "nLDTI92opsx1",
        "outputId": "4f9d93a5-fdda-445c-ffca-0840a9e84e61"
      },
      "source": [
        "y_pred.shape"
      ],
      "id": "nLDTI92opsx1",
      "execution_count": 27,
      "outputs": [
        {
          "output_type": "execute_result",
          "data": {
            "text/plain": [
              "(310, 1)"
            ]
          },
          "metadata": {
            "tags": []
          },
          "execution_count": 27
        }
      ]
    },
    {
      "cell_type": "code",
      "metadata": {
        "colab": {
          "base_uri": "https://localhost:8080/"
        },
        "id": "SUvbHdahxTAH",
        "outputId": "75e463db-2bdf-4414-941d-30e32e7896e4"
      },
      "source": [
        "#Put last 60 day price to a input\n",
        "tmr = np.array([inputs[-60:]])\n",
        "tmr.shape"
      ],
      "id": "SUvbHdahxTAH",
      "execution_count": 28,
      "outputs": [
        {
          "output_type": "execute_result",
          "data": {
            "text/plain": [
              "(1, 60, 5)"
            ]
          },
          "metadata": {
            "tags": []
          },
          "execution_count": 28
        }
      ]
    },
    {
      "cell_type": "code",
      "metadata": {
        "colab": {
          "base_uri": "https://localhost:8080/"
        },
        "id": "multiple-breakfast",
        "outputId": "c66aeaf5-4ecd-4046-bee0-cdb4370ff626"
      },
      "source": [
        "#denormalization\n",
        "scale = 1/scaler.scale_[0]\n",
        "scale"
      ],
      "id": "multiple-breakfast",
      "execution_count": 29,
      "outputs": [
        {
          "output_type": "execute_result",
          "data": {
            "text/plain": [
              "845.4200060000001"
            ]
          },
          "metadata": {
            "tags": []
          },
          "execution_count": 29
        }
      ]
    },
    {
      "cell_type": "code",
      "metadata": {
        "id": "chubby-constitution"
      },
      "source": [
        "#denormalization\n",
        "y_pred = y_pred*scale\n",
        "y_test = y_test*scale"
      ],
      "id": "chubby-constitution",
      "execution_count": 30,
      "outputs": []
    },
    {
      "cell_type": "code",
      "metadata": {
        "colab": {
          "base_uri": "https://localhost:8080/"
        },
        "id": "Pd79rG_qheDB",
        "outputId": "e58aa8e7-3eee-4ab4-d22f-c3f064abd15a"
      },
      "source": [
        "y_pred.shape,y_test.shape"
      ],
      "id": "Pd79rG_qheDB",
      "execution_count": 31,
      "outputs": [
        {
          "output_type": "execute_result",
          "data": {
            "text/plain": [
              "((310, 1), (310,))"
            ]
          },
          "metadata": {
            "tags": []
          },
          "execution_count": 31
        }
      ]
    },
    {
      "cell_type": "code",
      "metadata": {
        "colab": {
          "base_uri": "https://localhost:8080/"
        },
        "id": "eRxQhXHnxJzM",
        "outputId": "d7b34a16-7e59-48eb-bfa1-45e8837c4730"
      },
      "source": [
        "#Last of data\n",
        "y_test[-1]"
      ],
      "id": "eRxQhXHnxJzM",
      "execution_count": 32,
      "outputs": [
        {
          "output_type": "execute_result",
          "data": {
            "text/plain": [
              "567.040001"
            ]
          },
          "metadata": {
            "tags": []
          },
          "execution_count": 32
        }
      ]
    },
    {
      "cell_type": "code",
      "metadata": {
        "colab": {
          "base_uri": "https://localhost:8080/"
        },
        "id": "h6H6OlYpy1wo",
        "outputId": "05ba3aaa-e2ab-42a3-c0bd-2de4fb98186b"
      },
      "source": [
        "#Last of chart predict result\n",
        "y_pred[-1][0]"
      ],
      "id": "h6H6OlYpy1wo",
      "execution_count": 33,
      "outputs": [
        {
          "output_type": "execute_result",
          "data": {
            "text/plain": [
              "577.666"
            ]
          },
          "metadata": {
            "tags": []
          },
          "execution_count": 33
        }
      ]
    },
    {
      "cell_type": "code",
      "metadata": {
        "colab": {
          "base_uri": "https://localhost:8080/"
        },
        "id": "XAUJBUgiyGSt",
        "outputId": "c1d0f83e-6de3-4136-8ee4-64a7ebeb4c1d"
      },
      "source": [
        "print(\"the next day price\")\n",
        "print(model.predict(tmr)[0][0]*scale)"
      ],
      "id": "XAUJBUgiyGSt",
      "execution_count": 34,
      "outputs": [
        {
          "output_type": "stream",
          "text": [
            "the next day price\n",
            "575.5686595781071\n"
          ],
          "name": "stdout"
        }
      ]
    },
    {
      "cell_type": "code",
      "metadata": {
        "colab": {
          "base_uri": "https://localhost:8080/",
          "height": 567
        },
        "id": "parental-secret",
        "outputId": "23b57094-d833-497a-dcd7-c1bf0d0cc8b7"
      },
      "source": [
        "# Visualising the results\n",
        "plt.figure(figsize=(16,9))\n",
        "plt.plot(y_test, color = 'red', label = 'Real Stock Price')\n",
        "plt.plot(y_pred, color = 'blue', label = 'Predicted Stock Price')\n",
        "plt.title('Stock Price Prediction')\n",
        "plt.xlabel('Time')\n",
        "plt.ylabel('Stock Price')\n",
        "plt.legend()\n",
        "plt.show()"
      ],
      "id": "parental-secret",
      "execution_count": 35,
      "outputs": [
        {
          "output_type": "display_data",
          "data": {
            "image/png": "[encoded data removed]",
            "text/plain": [
              "<Figure size 1152x648 with 1 Axes>"
            ]
          },
          "metadata": {
            "tags": [],
            "needs_background": "light"
          }
        }
      ]
    },
    {
      "cell_type": "code",
      "metadata": {
        "colab": {
          "base_uri": "https://localhost:8080/",
          "height": 840
        },
        "id": "Y-wZqBgXtCNC",
        "outputId": "60a81769-2717-480e-c1bd-b50101e7c1a3"
      },
      "source": [
        "!kill 9936\n",
        "%load_ext tensorboard\n",
        "%tensorboard --logdir my_dir"
      ],
      "id": "Y-wZqBgXtCNC",
      "execution_count": 36,
      "outputs": [
        {
          "output_type": "display_data",
          "data": {
            "text/plain": [
              "Reusing TensorBoard on port 6007 (pid 10503), started 1:33:55 ago. (Use '!kill 10503' to kill it.)"
            ]
          },
          "metadata": {
            "tags": []
          }
        },
        {
          "output_type": "display_data",
          "data": {
            "application/javascript": [
              "\n",
              "        (async () => {\n",
              "            const url = new URL(await google.colab.kernel.proxyPort(6007, {'cache': true}));\n",
              "            url.searchParams.set('tensorboardColab', 'true');\n",
              "            const iframe = document.createElement('iframe');\n",
              "            iframe.src = url;\n",
              "            iframe.setAttribute('width', '100%');\n",
              "            iframe.setAttribute('height', '800');\n",
              "            iframe.setAttribute('frameborder', 0);\n",
              "            document.body.appendChild(iframe);\n",
              "        })();\n",
              "    "
            ],
            "text/plain": [
              "<IPython.core.display.Javascript object>"
            ]
          },
          "metadata": {
            "tags": []
          }
        }
      ]
    }
  ]
}