{
  "nbformat": 4,
  "nbformat_minor": 5,
  "metadata": {
    "colab": {
      "name": "LSTM_test.ipynb",
      "provenance": [],
      "collapsed_sections": []
    },
    "kernelspec": {
      "display_name": "Python 3",
      "name": "python3"
    },
    "language_info": {
      "name": "python"
    },
    "accelerator": "GPU"
  },
  "cells": [
    {
      "cell_type": "code",
      "metadata": {
        "id": "0DTCp-N24CPg"
      },
      "source": [
        "!pip install -q -U keras-tuner"
      ],
      "id": "0DTCp-N24CPg",
      "execution_count": 1,
      "outputs": []
    },
    {
      "cell_type": "code",
      "metadata": {
        "id": "atomic-suggestion"
      },
      "source": [
        "import numpy as np\n",
        "import matplotlib.pyplot as plt\n",
        "import pandas as pd\n",
        "from sklearn.preprocessing import MinMaxScaler\n",
        "from datetime import datetime\n",
        "import tensorflow as tf\n",
        "from tensorflow import keras\n",
        "from tensorflow.keras import regularizers\n",
        "import kerastuner as kt\n",
        "from  IPython import display\n",
        "import pathlib\n",
        "import shutil\n",
        "import tempfile"
      ],
      "id": "atomic-suggestion",
      "execution_count": 2,
      "outputs": []
    },
    {
      "cell_type": "code",
      "metadata": {
        "colab": {
          "base_uri": "https://localhost:8080/"
        },
        "id": "QhYtJv3FfMTm",
        "outputId": "56077cd1-e7cc-4e2f-b175-ce27152bcb71"
      },
      "source": [
        "from google.colab import drive\n",
        "drive.mount('/content/gdrive')"
      ],
      "id": "QhYtJv3FfMTm",
      "execution_count": 3,
      "outputs": [
        {
          "output_type": "stream",
          "text": [
            "Drive already mounted at /content/gdrive; to attempt to forcibly remount, call drive.mount(\"/content/gdrive\", force_remount=True).\n"
          ],
          "name": "stdout"
        }
      ]
    },
    {
      "cell_type": "code",
      "metadata": {
        "id": "stainless-mirror"
      },
      "source": [
        "data = pd.read_csv('/content/gdrive/My Drive/TSLA.csv', date_parser = True)"
      ],
      "id": "stainless-mirror",
      "execution_count": 4,
      "outputs": []
    },
    {
      "cell_type": "code",
      "metadata": {
        "colab": {
          "base_uri": "https://localhost:8080/"
        },
        "id": "oxer-_bHP0-S",
        "outputId": "0e37ee8b-72dc-4840-de0e-a4509a21d386"
      },
      "source": [
        "data.shape"
      ],
      "id": "oxer-_bHP0-S",
      "execution_count": 5,
      "outputs": [
        {
          "output_type": "execute_result",
          "data": {
            "text/plain": [
              "(2704, 7)"
            ]
          },
          "metadata": {
            "tags": []
          },
          "execution_count": 5
        }
      ]
    },
    {
      "cell_type": "code",
      "metadata": {
        "id": "lucky-joint"
      },
      "source": [
        "data_training = data[data['Date']<'2020-01-01'].copy()\n",
        "data_test = data[data['Date']>='2020-01-01'].copy()"
      ],
      "id": "lucky-joint",
      "execution_count": 6,
      "outputs": []
    },
    {
      "cell_type": "code",
      "metadata": {
        "id": "varying-stamp"
      },
      "source": [
        "data_training = data_training.drop(['Date', 'Adj Close'], axis = 1)\n",
        "data_test = data_test.drop(['Date', 'Adj Close'], axis = 1)"
      ],
      "id": "varying-stamp",
      "execution_count": 7,
      "outputs": []
    },
    {
      "cell_type": "code",
      "metadata": {
        "colab": {
          "base_uri": "https://localhost:8080/",
          "height": 81
        },
        "id": "aRgy1Gpq0BI8",
        "outputId": "21c70a47-7d07-46c2-8c46-87e8af1ea613"
      },
      "source": [
        "data_test[-1:]"
      ],
      "id": "aRgy1Gpq0BI8",
      "execution_count": 8,
      "outputs": [
        {
          "output_type": "execute_result",
          "data": {
            "text/html": [
              "<div>\n",
              "<style scoped>\n",
              "    .dataframe tbody tr th:only-of-type {\n",
              "        vertical-align: middle;\n",
              "    }\n",
              "\n",
              "    .dataframe tbody tr th {\n",
              "        vertical-align: top;\n",
              "    }\n",
              "\n",
              "    .dataframe thead th {\n",
              "        text-align: right;\n",
              "    }\n",
              "</style>\n",
              "<table border=\"1\" class=\"dataframe\">\n",
              "  <thead>\n",
              "    <tr style=\"text-align: right;\">\n",
              "      <th></th>\n",
              "      <th>Open</th>\n",
              "      <th>High</th>\n",
              "      <th>Low</th>\n",
              "      <th>Close</th>\n",
              "      <th>Volume</th>\n",
              "    </tr>\n",
              "  </thead>\n",
              "  <tbody>\n",
              "    <tr>\n",
              "      <th>2703</th>\n",
              "      <td>613.0</td>\n",
              "      <td>645.5</td>\n",
              "      <td>609.5</td>\n",
              "      <td>640.390015</td>\n",
              "      <td>39150700</td>\n",
              "    </tr>\n",
              "  </tbody>\n",
              "</table>\n",
              "</div>"
            ],
            "text/plain": [
              "       Open   High    Low       Close    Volume\n",
              "2703  613.0  645.5  609.5  640.390015  39150700"
            ]
          },
          "metadata": {
            "tags": []
          },
          "execution_count": 8
        }
      ]
    },
    {
      "cell_type": "code",
      "metadata": {
        "id": "E52WDME90Odt"
      },
      "source": [
        "set_batch_size=60\n",
        "day_interval=60"
      ],
      "id": "E52WDME90Odt",
      "execution_count": 9,
      "outputs": []
    },
    {
      "cell_type": "code",
      "metadata": {
        "id": "go1BpLN7zwqF"
      },
      "source": [
        "#epochs_size = data_training.shape[0]//set_batch_size\n",
        "epochs_size = 50"
      ],
      "id": "go1BpLN7zwqF",
      "execution_count": 10,
      "outputs": []
    },
    {
      "cell_type": "code",
      "metadata": {
        "id": "HsCZsNz2Jti8"
      },
      "source": [
        "past_30_days = data_training.tail(day_interval)\n",
        "df = past_30_days.append(data_test)"
      ],
      "id": "HsCZsNz2Jti8",
      "execution_count": 11,
      "outputs": []
    },
    {
      "cell_type": "code",
      "metadata": {
        "id": "pursuant-penny"
      },
      "source": [
        "scaler = MinMaxScaler()\n",
        "data_training = scaler.fit_transform(data_training)"
      ],
      "id": "pursuant-penny",
      "execution_count": 12,
      "outputs": []
    },
    {
      "cell_type": "code",
      "metadata": {
        "colab": {
          "base_uri": "https://localhost:8080/"
        },
        "id": "DnPCQvT7X-LV",
        "outputId": "aede617e-9398-4542-e1b8-bfda1ed3a844"
      },
      "source": [
        "train_size = data_training.shape[0]\n",
        "print(train_size)"
      ],
      "id": "DnPCQvT7X-LV",
      "execution_count": 13,
      "outputs": [
        {
          "output_type": "stream",
          "text": [
            "2394\n"
          ],
          "name": "stdout"
        }
      ]
    },
    {
      "cell_type": "code",
      "metadata": {
        "id": "official-incident"
      },
      "source": [
        "X_train = []\n",
        "y_train = []\n",
        "\n",
        "for i in range(day_interval, data_training.shape[0]):\n",
        "    X_train.append(data_training[i-day_interval:i])\n",
        "    y_train.append(data_training[i, 0])\n",
        "    \n",
        "X_train, y_train = np.array(X_train), np.array(y_train)"
      ],
      "id": "official-incident",
      "execution_count": 14,
      "outputs": []
    },
    {
      "cell_type": "code",
      "metadata": {
        "colab": {
          "base_uri": "https://localhost:8080/"
        },
        "id": "studied-newspaper",
        "outputId": "117c50a8-b876-497f-8151-1e31ff5a6a62"
      },
      "source": [
        "X_train.shape"
      ],
      "id": "studied-newspaper",
      "execution_count": 15,
      "outputs": [
        {
          "output_type": "execute_result",
          "data": {
            "text/plain": [
              "(2334, 60, 5)"
            ]
          },
          "metadata": {
            "tags": []
          },
          "execution_count": 15
        }
      ]
    },
    {
      "cell_type": "code",
      "metadata": {
        "colab": {
          "base_uri": "https://localhost:8080/"
        },
        "id": "Jyx_i9Lu-6A2",
        "outputId": "98d6877a-698c-473b-eb64-e90668261ac0"
      },
      "source": [
        "y_train.shape"
      ],
      "id": "Jyx_i9Lu-6A2",
      "execution_count": 16,
      "outputs": [
        {
          "output_type": "execute_result",
          "data": {
            "text/plain": [
              "(2334,)"
            ]
          },
          "metadata": {
            "tags": []
          },
          "execution_count": 16
        }
      ]
    },
    {
      "cell_type": "code",
      "metadata": {
        "id": "stainless-winner"
      },
      "source": [
        "#model = keras.models.Sequential([\n",
        "#    tf.keras.layers.LSTM(60, activation = 'relu', unroll= True, return_sequences = True, input_shape = (X_train.shape[1], X_train.shape[2])),\n",
        "#    tf.keras.layers.LSTM(60, activation = 'relu', unroll= True, return_sequences = True),\n",
        "#    #tf.keras.layers.LSTM(60, activation = 'relu', unroll= True, return_sequences = True),\n",
        "#    tf.keras.layers.LSTM(60, activation = 'relu'),\n",
        "#    keras.layers.Dense(1),\n",
        "#])"
      ],
      "id": "stainless-winner",
      "execution_count": 17,
      "outputs": []
    },
    {
      "cell_type": "code",
      "metadata": {
        "id": "L2X-o4a93UXI"
      },
      "source": [
        "def model_builder(hp):\n",
        "  model = keras.Sequential()\n",
        "  #model.add(keras.layers.Flatten(input_shape=(28, 28)))\n",
        "\n",
        "  hp_units = hp.Int('units', min_value=32, max_value=512, step=32)\n",
        "  model.add(keras.layers.LSTM(units=hp_units, activation='relu', unroll= True, return_sequences = True, input_shape = (X_train.shape[1], X_train.shape[2])))\n",
        "  model.add(keras.layers.LSTM(units=hp_units, activation='relu', unroll= True, return_sequences = True,))\n",
        "  model.add(keras.layers.LSTM(units=hp_units, activation='relu', unroll= True, return_sequences = True,))\n",
        "  model.add(keras.layers.LSTM(units=hp_units, activation='relu'))\n",
        "  model.add(keras.layers.Dense(1))\n",
        "\n",
        "  # Tune the learning rate for the optimizer\n",
        "  # Choose an optimal value from 0.01, 0.001, or 0.0001\n",
        "  hp_learning_rate = hp.Choice('learning_rate', values=[1e-2, 1e-3, 1e-4])\n",
        "\n",
        "  model.compile(optimizer=keras.optimizers.Adam(learning_rate=hp_learning_rate),\n",
        "                loss=tf.keras.losses.MeanSquaredLogarithmicError(),\n",
        "                metrics=['mse'])\n",
        "\n",
        "  return model"
      ],
      "id": "L2X-o4a93UXI",
      "execution_count": 18,
      "outputs": []
    },
    {
      "cell_type": "code",
      "metadata": {
        "id": "figured-huntington"
      },
      "source": [
        "#model.summary()"
      ],
      "id": "figured-huntington",
      "execution_count": 19,
      "outputs": []
    },
    {
      "cell_type": "code",
      "metadata": {
        "colab": {
          "base_uri": "https://localhost:8080/"
        },
        "id": "p-iytv5G4RLy",
        "outputId": "6b24b70a-0d01-456a-f8bc-64e510607036"
      },
      "source": [
        "tuner = kt.Hyperband(model_builder,\n",
        "            objective='val_loss',\n",
        "            max_epochs=10,\n",
        "            factor=3,\n",
        "            directory='my_dir',\n",
        "            project_name='stock_prediction')"
      ],
      "id": "p-iytv5G4RLy",
      "execution_count": 20,
      "outputs": [
        {
          "output_type": "stream",
          "text": [
            "INFO:tensorflow:Reloading Oracle from existing project my_dir/stock_prediction/oracle.json\n",
            "WARNING:tensorflow:Layer lstm will not use cuDNN kernel since it doesn't meet the cuDNN kernel criteria. It will use generic GPU kernel as fallback when running on GPU\n",
            "WARNING:tensorflow:Layer lstm_1 will not use cuDNN kernel since it doesn't meet the cuDNN kernel criteria. It will use generic GPU kernel as fallback when running on GPU\n",
            "WARNING:tensorflow:Layer lstm_2 will not use cuDNN kernel since it doesn't meet the cuDNN kernel criteria. It will use generic GPU kernel as fallback when running on GPU\n",
            "WARNING:tensorflow:Layer lstm_3 will not use cuDNN kernel since it doesn't meet the cuDNN kernel criteria. It will use generic GPU kernel as fallback when running on GPU\n",
            "INFO:tensorflow:Reloading Tuner from my_dir/stock_prediction/tuner0.json\n"
          ],
          "name": "stdout"
        }
      ]
    },
    {
      "cell_type": "code",
      "metadata": {
        "id": "m9uJJa_s4xPt"
      },
      "source": [
        "stop_early = tf.keras.callbacks.EarlyStopping(monitor='val_loss', patience=5)"
      ],
      "id": "m9uJJa_s4xPt",
      "execution_count": 21,
      "outputs": []
    },
    {
      "cell_type": "code",
      "metadata": {
        "colab": {
          "base_uri": "https://localhost:8080/"
        },
        "id": "zSufA_d-4zKl",
        "outputId": "a44833eb-7522-41d7-d3d5-5ebbcdd8cb1b"
      },
      "source": [
        "tuner.search(X_train, y_train, epochs=50, validation_split=0.2, callbacks=[stop_early])\n",
        "\n",
        "# Get the optimal hyperparameters\n",
        "best_hps=tuner.get_best_hyperparameters(num_trials=1)[0]\n",
        "\n",
        "print(f\"\"\"\n",
        "The hyperparameter search is complete. The optimal number of units in the first densely-connected\n",
        "layer is {best_hps.get('units')} and the optimal learning rate for the optimizer\n",
        "is {best_hps.get('learning_rate')}.\n",
        "\"\"\")"
      ],
      "id": "zSufA_d-4zKl",
      "execution_count": 22,
      "outputs": [
        {
          "output_type": "stream",
          "text": [
            "INFO:tensorflow:Oracle triggered exit\n",
            "\n",
            "The hyperparameter search is complete. The optimal number of units in the first densely-connected\n",
            "layer is 96 and the optimal learning rate for the optimizer\n",
            "is 0.001.\n",
            "\n"
          ],
          "name": "stdout"
        }
      ]
    },
    {
      "cell_type": "code",
      "metadata": {
        "id": "Cz8GKKa545Jp",
        "colab": {
          "base_uri": "https://localhost:8080/"
        },
        "outputId": "a5e73098-7921-4aea-c48b-192baa8e20e6"
      },
      "source": [
        "# Build the model with the optimal hyperparameters and train it on the data for 50 epochs\n",
        "model = tuner.hypermodel.build(best_hps)\n",
        "history = model.fit(X_train, y_train, epochs=50, validation_split=0.2)\n",
        "\n",
        "val_acc_per_epoch = history.history['val_loss']\n",
        "best_epoch = val_acc_per_epoch.index(max(val_acc_per_epoch)) + 1\n",
        "print('Best epoch: %d' % (best_epoch,))"
      ],
      "id": "Cz8GKKa545Jp",
      "execution_count": 23,
      "outputs": [
        {
          "output_type": "stream",
          "text": [
            "WARNING:tensorflow:Layer lstm will not use cuDNN kernel since it doesn't meet the cuDNN kernel criteria. It will use generic GPU kernel as fallback when running on GPU\n",
            "WARNING:tensorflow:Layer lstm_1 will not use cuDNN kernel since it doesn't meet the cuDNN kernel criteria. It will use generic GPU kernel as fallback when running on GPU\n",
            "WARNING:tensorflow:Layer lstm_2 will not use cuDNN kernel since it doesn't meet the cuDNN kernel criteria. It will use generic GPU kernel as fallback when running on GPU\n",
            "WARNING:tensorflow:Layer lstm_3 will not use cuDNN kernel since it doesn't meet the cuDNN kernel criteria. It will use generic GPU kernel as fallback when running on GPU\n",
            "Epoch 1/50\n",
            "59/59 [==============================] - 32s 171ms/step - loss: 0.0301 - mse: 0.0537 - val_loss: 0.0021 - val_mse: 0.0059\n",
            "Epoch 2/50\n",
            "59/59 [==============================] - 7s 119ms/step - loss: 7.9541e-04 - mse: 0.0018 - val_loss: 0.0018 - val_mse: 0.0051\n",
            "Epoch 3/50\n",
            "59/59 [==============================] - 7s 120ms/step - loss: 6.5854e-04 - mse: 0.0015 - val_loss: 0.0020 - val_mse: 0.0057\n",
            "Epoch 4/50\n",
            "59/59 [==============================] - 7s 116ms/step - loss: 6.3777e-04 - mse: 0.0014 - val_loss: 0.0016 - val_mse: 0.0044\n",
            "Epoch 5/50\n",
            "59/59 [==============================] - 7s 117ms/step - loss: 5.4044e-04 - mse: 0.0012 - val_loss: 0.0016 - val_mse: 0.0045\n",
            "Epoch 6/50\n",
            "59/59 [==============================] - 7s 119ms/step - loss: 5.6348e-04 - mse: 0.0013 - val_loss: 0.0014 - val_mse: 0.0039\n",
            "Epoch 7/50\n",
            "59/59 [==============================] - 7s 124ms/step - loss: 5.1423e-04 - mse: 0.0012 - val_loss: 0.0023 - val_mse: 0.0066\n",
            "Epoch 8/50\n",
            "59/59 [==============================] - 7s 120ms/step - loss: 6.2237e-04 - mse: 0.0015 - val_loss: 0.0013 - val_mse: 0.0036\n",
            "Epoch 9/50\n",
            "59/59 [==============================] - 7s 119ms/step - loss: 4.2234e-04 - mse: 9.7417e-04 - val_loss: 0.0011 - val_mse: 0.0031\n",
            "Epoch 10/50\n",
            "59/59 [==============================] - 7s 119ms/step - loss: 4.2677e-04 - mse: 9.9988e-04 - val_loss: 0.0011 - val_mse: 0.0030\n",
            "Epoch 11/50\n",
            "59/59 [==============================] - 7s 119ms/step - loss: 3.1934e-04 - mse: 7.3816e-04 - val_loss: 9.7649e-04 - val_mse: 0.0028\n",
            "Epoch 12/50\n",
            "59/59 [==============================] - 7s 123ms/step - loss: 3.0644e-04 - mse: 7.1848e-04 - val_loss: 0.0014 - val_mse: 0.0040\n",
            "Epoch 13/50\n",
            "59/59 [==============================] - 7s 119ms/step - loss: 3.4348e-04 - mse: 7.9009e-04 - val_loss: 8.3706e-04 - val_mse: 0.0023\n",
            "Epoch 14/50\n",
            "59/59 [==============================] - 7s 117ms/step - loss: 2.4513e-04 - mse: 5.6360e-04 - val_loss: 7.3511e-04 - val_mse: 0.0021\n",
            "Epoch 15/50\n",
            "59/59 [==============================] - 7s 120ms/step - loss: 3.0898e-04 - mse: 7.2839e-04 - val_loss: 8.7263e-04 - val_mse: 0.0024\n",
            "Epoch 16/50\n",
            "59/59 [==============================] - 7s 121ms/step - loss: 2.6863e-04 - mse: 5.9982e-04 - val_loss: 6.7833e-04 - val_mse: 0.0019\n",
            "Epoch 17/50\n",
            "59/59 [==============================] - 7s 119ms/step - loss: 2.4694e-04 - mse: 5.6270e-04 - val_loss: 5.7441e-04 - val_mse: 0.0016\n",
            "Epoch 18/50\n",
            "59/59 [==============================] - 7s 115ms/step - loss: 2.2731e-04 - mse: 5.1466e-04 - val_loss: 5.4426e-04 - val_mse: 0.0015\n",
            "Epoch 19/50\n",
            "59/59 [==============================] - 7s 119ms/step - loss: 2.2010e-04 - mse: 5.0373e-04 - val_loss: 4.3742e-04 - val_mse: 0.0012\n",
            "Epoch 20/50\n",
            "59/59 [==============================] - 7s 121ms/step - loss: 1.7524e-04 - mse: 3.8263e-04 - val_loss: 5.3566e-04 - val_mse: 0.0015\n",
            "Epoch 21/50\n",
            "59/59 [==============================] - 7s 124ms/step - loss: 2.4458e-04 - mse: 5.7383e-04 - val_loss: 3.7604e-04 - val_mse: 0.0010\n",
            "Epoch 22/50\n",
            "59/59 [==============================] - 7s 123ms/step - loss: 1.6057e-04 - mse: 3.5308e-04 - val_loss: 5.5137e-04 - val_mse: 0.0015\n",
            "Epoch 23/50\n",
            "59/59 [==============================] - 7s 121ms/step - loss: 2.0484e-04 - mse: 4.6977e-04 - val_loss: 5.0098e-04 - val_mse: 0.0014\n",
            "Epoch 24/50\n",
            "59/59 [==============================] - 7s 117ms/step - loss: 1.6540e-04 - mse: 3.7404e-04 - val_loss: 3.1575e-04 - val_mse: 8.6852e-04\n",
            "Epoch 25/50\n",
            "59/59 [==============================] - 7s 121ms/step - loss: 1.5665e-04 - mse: 3.5577e-04 - val_loss: 2.4512e-04 - val_mse: 6.7284e-04\n",
            "Epoch 26/50\n",
            "59/59 [==============================] - 8s 128ms/step - loss: 1.1242e-04 - mse: 2.4963e-04 - val_loss: 2.3970e-04 - val_mse: 6.6769e-04\n",
            "Epoch 27/50\n",
            "59/59 [==============================] - 7s 119ms/step - loss: 1.0256e-04 - mse: 2.2482e-04 - val_loss: 1.9768e-04 - val_mse: 5.4170e-04\n",
            "Epoch 28/50\n",
            "59/59 [==============================] - 7s 119ms/step - loss: 9.0166e-05 - mse: 1.9324e-04 - val_loss: 2.6874e-04 - val_mse: 7.2471e-04\n",
            "Epoch 29/50\n",
            "59/59 [==============================] - 7s 125ms/step - loss: 1.0606e-04 - mse: 2.3986e-04 - val_loss: 2.4114e-04 - val_mse: 6.7795e-04\n",
            "Epoch 30/50\n",
            "59/59 [==============================] - 7s 122ms/step - loss: 8.6633e-05 - mse: 1.9501e-04 - val_loss: 2.5187e-04 - val_mse: 6.8383e-04\n",
            "Epoch 31/50\n",
            "59/59 [==============================] - 7s 121ms/step - loss: 1.2535e-04 - mse: 2.8850e-04 - val_loss: 1.5632e-04 - val_mse: 4.2364e-04\n",
            "Epoch 32/50\n",
            "59/59 [==============================] - 7s 122ms/step - loss: 6.6452e-05 - mse: 1.3869e-04 - val_loss: 1.3967e-04 - val_mse: 3.8670e-04\n",
            "Epoch 33/50\n",
            "59/59 [==============================] - 7s 121ms/step - loss: 7.6182e-05 - mse: 1.6510e-04 - val_loss: 3.6128e-04 - val_mse: 0.0010\n",
            "Epoch 34/50\n",
            "59/59 [==============================] - 7s 124ms/step - loss: 1.0780e-04 - mse: 2.4752e-04 - val_loss: 1.6113e-04 - val_mse: 4.5334e-04\n",
            "Epoch 35/50\n",
            "59/59 [==============================] - 7s 124ms/step - loss: 6.2608e-05 - mse: 1.3167e-04 - val_loss: 2.3675e-04 - val_mse: 6.5380e-04\n",
            "Epoch 36/50\n",
            "59/59 [==============================] - 7s 123ms/step - loss: 6.4534e-05 - mse: 1.4368e-04 - val_loss: 1.6421e-04 - val_mse: 4.5666e-04\n",
            "Epoch 37/50\n",
            "59/59 [==============================] - 7s 124ms/step - loss: 7.4313e-05 - mse: 1.6546e-04 - val_loss: 1.2134e-04 - val_mse: 3.3249e-04\n",
            "Epoch 38/50\n",
            "59/59 [==============================] - 7s 119ms/step - loss: 5.5946e-05 - mse: 1.1758e-04 - val_loss: 1.2195e-04 - val_mse: 3.3740e-04\n",
            "Epoch 39/50\n",
            "59/59 [==============================] - 8s 128ms/step - loss: 5.1297e-05 - mse: 1.0896e-04 - val_loss: 2.1949e-04 - val_mse: 6.1420e-04\n",
            "Epoch 40/50\n",
            "59/59 [==============================] - 7s 124ms/step - loss: 6.2086e-05 - mse: 1.3570e-04 - val_loss: 1.4699e-04 - val_mse: 4.1174e-04\n",
            "Epoch 41/50\n",
            "59/59 [==============================] - 7s 119ms/step - loss: 5.1531e-05 - mse: 1.1254e-04 - val_loss: 1.2486e-04 - val_mse: 3.4495e-04\n",
            "Epoch 42/50\n",
            "59/59 [==============================] - 7s 125ms/step - loss: 6.2214e-05 - mse: 1.3505e-04 - val_loss: 1.2662e-04 - val_mse: 3.4889e-04\n",
            "Epoch 43/50\n",
            "59/59 [==============================] - 7s 124ms/step - loss: 4.5370e-05 - mse: 9.4651e-05 - val_loss: 1.6251e-04 - val_mse: 4.5766e-04\n",
            "Epoch 44/50\n",
            "59/59 [==============================] - 7s 124ms/step - loss: 4.4350e-05 - mse: 9.4178e-05 - val_loss: 1.2633e-04 - val_mse: 3.4848e-04\n",
            "Epoch 45/50\n",
            "59/59 [==============================] - 7s 121ms/step - loss: 4.7604e-05 - mse: 1.0362e-04 - val_loss: 2.2221e-04 - val_mse: 6.2903e-04\n",
            "Epoch 46/50\n",
            "59/59 [==============================] - 7s 126ms/step - loss: 4.7953e-05 - mse: 1.0538e-04 - val_loss: 1.5064e-04 - val_mse: 4.1862e-04\n",
            "Epoch 47/50\n",
            "59/59 [==============================] - 7s 121ms/step - loss: 4.1288e-05 - mse: 9.0153e-05 - val_loss: 1.7048e-04 - val_mse: 4.6809e-04\n",
            "Epoch 48/50\n",
            "59/59 [==============================] - 7s 126ms/step - loss: 5.3873e-05 - mse: 1.1846e-04 - val_loss: 2.9263e-04 - val_mse: 8.3483e-04\n",
            "Epoch 49/50\n",
            "59/59 [==============================] - 7s 124ms/step - loss: 5.3243e-05 - mse: 1.1605e-04 - val_loss: 1.1324e-04 - val_mse: 3.1190e-04\n",
            "Epoch 50/50\n",
            "59/59 [==============================] - 7s 124ms/step - loss: 6.4419e-05 - mse: 1.4340e-04 - val_loss: 1.4081e-04 - val_mse: 3.8970e-04\n",
            "Best epoch: 7\n"
          ],
          "name": "stdout"
        }
      ]
    },
    {
      "cell_type": "code",
      "metadata": {
        "id": "U7GjKbcc4_C1",
        "colab": {
          "base_uri": "https://localhost:8080/"
        },
        "outputId": "1e378cc3-8f5e-49cf-d862-3b74fc73585d"
      },
      "source": [
        "hypermodel = tuner.hypermodel.build(best_hps)\n",
        "\n",
        "# Retrain the model\n",
        "hypermodel.fit(X_train, y_train, epochs=best_epoch, validation_split=0.2)"
      ],
      "id": "U7GjKbcc4_C1",
      "execution_count": 24,
      "outputs": [
        {
          "output_type": "stream",
          "text": [
            "WARNING:tensorflow:Layer lstm will not use cuDNN kernel since it doesn't meet the cuDNN kernel criteria. It will use generic GPU kernel as fallback when running on GPU\n",
            "WARNING:tensorflow:Layer lstm_1 will not use cuDNN kernel since it doesn't meet the cuDNN kernel criteria. It will use generic GPU kernel as fallback when running on GPU\n",
            "WARNING:tensorflow:Layer lstm_2 will not use cuDNN kernel since it doesn't meet the cuDNN kernel criteria. It will use generic GPU kernel as fallback when running on GPU\n",
            "WARNING:tensorflow:Layer lstm_3 will not use cuDNN kernel since it doesn't meet the cuDNN kernel criteria. It will use generic GPU kernel as fallback when running on GPU\n",
            "Epoch 1/7\n",
            "59/59 [==============================] - 32s 171ms/step - loss: 0.0334 - mse: 0.0574 - val_loss: 0.0020 - val_mse: 0.0056\n",
            "Epoch 2/7\n",
            "59/59 [==============================] - 7s 120ms/step - loss: 7.7736e-04 - mse: 0.0018 - val_loss: 0.0018 - val_mse: 0.0050\n",
            "Epoch 3/7\n",
            "59/59 [==============================] - 7s 116ms/step - loss: 6.7912e-04 - mse: 0.0016 - val_loss: 0.0023 - val_mse: 0.0064\n",
            "Epoch 4/7\n",
            "59/59 [==============================] - 7s 118ms/step - loss: 5.6600e-04 - mse: 0.0013 - val_loss: 0.0016 - val_mse: 0.0045\n",
            "Epoch 5/7\n",
            "59/59 [==============================] - 7s 114ms/step - loss: 6.2422e-04 - mse: 0.0014 - val_loss: 0.0015 - val_mse: 0.0043\n",
            "Epoch 6/7\n",
            "59/59 [==============================] - 7s 115ms/step - loss: 6.0899e-04 - mse: 0.0014 - val_loss: 0.0019 - val_mse: 0.0055\n",
            "Epoch 7/7\n",
            "59/59 [==============================] - 7s 117ms/step - loss: 5.5825e-04 - mse: 0.0013 - val_loss: 0.0014 - val_mse: 0.0040\n"
          ],
          "name": "stdout"
        },
        {
          "output_type": "execute_result",
          "data": {
            "text/plain": [
              "<tensorflow.python.keras.callbacks.History at 0x7f6dcf380c50>"
            ]
          },
          "metadata": {
            "tags": []
          },
          "execution_count": 24
        }
      ]
    },
    {
      "cell_type": "code",
      "metadata": {
        "id": "vLHnIVFrtA2x"
      },
      "source": [
        "#logdir = \"logs/scalars/\" + datetime.now().strftime(\"%Y%m%d-%H%M%S\")\n",
        "#tensorboard_callback = keras.callbacks.TensorBoard(log_dir=logdir)"
      ],
      "id": "vLHnIVFrtA2x",
      "execution_count": 25,
      "outputs": []
    },
    {
      "cell_type": "code",
      "metadata": {
        "id": "precise-place"
      },
      "source": [
        "#model.compile(\n",
        "#    loss='mse', # keras.losses.mean_squared_error\n",
        "#    optimizer=keras.optimizers.Adam(learning_rate=0.003),\n",
        "#)\n",
        "\n",
        "#training_history = model.fit(\n",
        "#    X_train,\n",
        "#    y_train,\n",
        "#    epochs=epochs_size,\n",
        "#    batch_size=set_batch_size,\n",
        "#    callbacks=[tensorboard_callback]\n",
        "#)"
      ],
      "id": "precise-place",
      "execution_count": 26,
      "outputs": []
    },
    {
      "cell_type": "code",
      "metadata": {
        "id": "Ir5GxLbpVg2Y"
      },
      "source": [
        "#print(\"Average test loss: \", np.average(training_history.history['loss']))"
      ],
      "id": "Ir5GxLbpVg2Y",
      "execution_count": 27,
      "outputs": []
    },
    {
      "cell_type": "code",
      "metadata": {
        "id": "accurate-paint",
        "scrolled": true,
        "colab": {
          "base_uri": "https://localhost:8080/"
        },
        "outputId": "1fbb67cd-cb6c-400c-dc66-13909383b17a"
      },
      "source": [
        "inputs = scaler.fit_transform(df)\n",
        "inputs.shape"
      ],
      "id": "accurate-paint",
      "execution_count": 28,
      "outputs": [
        {
          "output_type": "execute_result",
          "data": {
            "text/plain": [
              "(370, 5)"
            ]
          },
          "metadata": {
            "tags": []
          },
          "execution_count": 28
        }
      ]
    },
    {
      "cell_type": "code",
      "metadata": {
        "id": "intense-commerce",
        "colab": {
          "base_uri": "https://localhost:8080/"
        },
        "outputId": "3770546c-3ff1-48d6-a6df-0984dbaabc55"
      },
      "source": [
        "X_test = []\n",
        "y_test = []\n",
        "\n",
        "for i in range(day_interval, inputs.shape[0]):\n",
        "    X_test.append(inputs[i-day_interval:i])\n",
        "    y_test.append(inputs[i, 0])\n",
        "\n",
        "X_test, y_test = np.array(X_test), np.array(y_test)\n",
        "X_test.shape, y_test.shape"
      ],
      "id": "intense-commerce",
      "execution_count": 29,
      "outputs": [
        {
          "output_type": "execute_result",
          "data": {
            "text/plain": [
              "((310, 60, 5), (310,))"
            ]
          },
          "metadata": {
            "tags": []
          },
          "execution_count": 29
        }
      ]
    },
    {
      "cell_type": "code",
      "metadata": {
        "id": "r6XtghYO5N2m",
        "colab": {
          "base_uri": "https://localhost:8080/"
        },
        "outputId": "0b91da08-f95d-4327-ef1c-12b69316c4ad"
      },
      "source": [
        "eval_result = hypermodel.evaluate(X_test, y_test)\n",
        "print(\"[test loss, test accuracy]:\", eval_result)"
      ],
      "id": "r6XtghYO5N2m",
      "execution_count": 30,
      "outputs": [
        {
          "output_type": "stream",
          "text": [
            "10/10 [==============================] - 0s 19ms/step - loss: 0.0022 - mse: 0.0051\n",
            "[test loss, test accuracy]: [0.00223805895075202, 0.00507506774738431]\n"
          ],
          "name": "stdout"
        }
      ]
    },
    {
      "cell_type": "code",
      "metadata": {
        "id": "appreciated-flight"
      },
      "source": [
        "y_pred = model.predict(X_test)"
      ],
      "id": "appreciated-flight",
      "execution_count": 31,
      "outputs": []
    },
    {
      "cell_type": "code",
      "metadata": {
        "colab": {
          "base_uri": "https://localhost:8080/"
        },
        "id": "nLDTI92opsx1",
        "outputId": "e2562a1c-7cb1-44d0-9d49-d0135cab5c80"
      },
      "source": [
        "y_pred.shape"
      ],
      "id": "nLDTI92opsx1",
      "execution_count": 32,
      "outputs": [
        {
          "output_type": "execute_result",
          "data": {
            "text/plain": [
              "(310, 1)"
            ]
          },
          "metadata": {
            "tags": []
          },
          "execution_count": 32
        }
      ]
    },
    {
      "cell_type": "code",
      "metadata": {
        "id": "SUvbHdahxTAH",
        "colab": {
          "base_uri": "https://localhost:8080/"
        },
        "outputId": "9bc75153-84d2-4b73-87d7-17c1348a864e"
      },
      "source": [
        "#Put last 60 day price to a input\n",
        "tmr = np.array([inputs[-60:]])\n",
        "tmr.shape"
      ],
      "id": "SUvbHdahxTAH",
      "execution_count": 33,
      "outputs": [
        {
          "output_type": "execute_result",
          "data": {
            "text/plain": [
              "(1, 60, 5)"
            ]
          },
          "metadata": {
            "tags": []
          },
          "execution_count": 33
        }
      ]
    },
    {
      "cell_type": "code",
      "metadata": {
        "id": "multiple-breakfast",
        "colab": {
          "base_uri": "https://localhost:8080/"
        },
        "outputId": "4a14a17f-a7ef-444f-8db0-088711f7378b"
      },
      "source": [
        "#denormalization\n",
        "scale = 1/scaler.scale_[0]\n",
        "scale"
      ],
      "id": "multiple-breakfast",
      "execution_count": 34,
      "outputs": [
        {
          "output_type": "execute_result",
          "data": {
            "text/plain": [
              "845.4200060000001"
            ]
          },
          "metadata": {
            "tags": []
          },
          "execution_count": 34
        }
      ]
    },
    {
      "cell_type": "code",
      "metadata": {
        "id": "chubby-constitution"
      },
      "source": [
        "#denormalization\n",
        "y_pred = y_pred*scale\n",
        "y_test = y_test*scale"
      ],
      "id": "chubby-constitution",
      "execution_count": 35,
      "outputs": []
    },
    {
      "cell_type": "code",
      "metadata": {
        "id": "Pd79rG_qheDB",
        "colab": {
          "base_uri": "https://localhost:8080/"
        },
        "outputId": "1cae5047-00d3-4759-aed8-c8e5dbfc772c"
      },
      "source": [
        "y_pred.shape,y_test.shape"
      ],
      "id": "Pd79rG_qheDB",
      "execution_count": 36,
      "outputs": [
        {
          "output_type": "execute_result",
          "data": {
            "text/plain": [
              "((310, 1), (310,))"
            ]
          },
          "metadata": {
            "tags": []
          },
          "execution_count": 36
        }
      ]
    },
    {
      "cell_type": "code",
      "metadata": {
        "id": "eRxQhXHnxJzM",
        "colab": {
          "base_uri": "https://localhost:8080/"
        },
        "outputId": "cd235801-fd92-4528-e177-f47798652e4f"
      },
      "source": [
        "#Last of data\n",
        "y_test[-1]"
      ],
      "id": "eRxQhXHnxJzM",
      "execution_count": 37,
      "outputs": [
        {
          "output_type": "execute_result",
          "data": {
            "text/plain": [
              "567.040001"
            ]
          },
          "metadata": {
            "tags": []
          },
          "execution_count": 37
        }
      ]
    },
    {
      "cell_type": "code",
      "metadata": {
        "id": "h6H6OlYpy1wo",
        "colab": {
          "base_uri": "https://localhost:8080/"
        },
        "outputId": "12d21cab-fa60-41db-e2ac-5d21320b4000"
      },
      "source": [
        "#Last of chart predict result\n",
        "y_pred[-1][0]"
      ],
      "id": "h6H6OlYpy1wo",
      "execution_count": 38,
      "outputs": [
        {
          "output_type": "execute_result",
          "data": {
            "text/plain": [
              "595.785"
            ]
          },
          "metadata": {
            "tags": []
          },
          "execution_count": 38
        }
      ]
    },
    {
      "cell_type": "code",
      "metadata": {
        "id": "XAUJBUgiyGSt",
        "colab": {
          "base_uri": "https://localhost:8080/"
        },
        "outputId": "6e6c1504-a466-4505-f29c-815f545abb7c"
      },
      "source": [
        "print(\"the next day price\")\n",
        "print(model.predict(tmr)[0][0]*scale)"
      ],
      "id": "XAUJBUgiyGSt",
      "execution_count": 39,
      "outputs": [
        {
          "output_type": "stream",
          "text": [
            "the next day price\n",
            "582.6138195759793\n"
          ],
          "name": "stdout"
        }
      ]
    },
    {
      "cell_type": "code",
      "metadata": {
        "id": "parental-secret",
        "colab": {
          "base_uri": "https://localhost:8080/",
          "height": 567
        },
        "outputId": "247ea8cc-eb4e-4ec6-d097-7c6127a733c9"
      },
      "source": [
        "# Visualising the results\n",
        "plt.figure(figsize=(16,9))\n",
        "plt.plot(y_test, color = 'red', label = 'Real Stock Price')\n",
        "plt.plot(y_pred, color = 'blue', label = 'Predicted Stock Price')\n",
        "plt.title('Stock Price Prediction')\n",
        "plt.xlabel('Time')\n",
        "plt.ylabel('Stock Price')\n",
        "plt.legend()\n",
        "plt.show()"
      ],
      "id": "parental-secret",
      "execution_count": 40,
      "outputs": [
        {
          "output_type": "display_data",
          "data": {
            "image/png": "[encoded data removed]",
            "text/plain": [
              "<Figure size 1152x648 with 1 Axes>"
            ]
          },
          "metadata": {
            "tags": [],
            "needs_background": "light"
          }
        }
      ]
    },
    {
      "cell_type": "code",
      "metadata": {
        "id": "Y-wZqBgXtCNC",
        "colab": {
          "base_uri": "https://localhost:8080/",
          "height": 858
        },
        "outputId": "1c418e94-8c24-40b1-9e6d-771b41f538cf"
      },
      "source": [
        "!kill 303\n",
        "%load_ext tensorboard\n",
        "%tensorboard --logdir logs/scalars"
      ],
      "id": "Y-wZqBgXtCNC",
      "execution_count": 41,
      "outputs": [
        {
          "output_type": "stream",
          "text": [
            "/bin/bash: line 0: kill: (303) - No such process\n"
          ],
          "name": "stdout"
        },
        {
          "output_type": "display_data",
          "data": {
            "text/plain": [
              "Reusing TensorBoard on port 6006 (pid 3311), started 1:44:40 ago. (Use '!kill 3311' to kill it.)"
            ]
          },
          "metadata": {
            "tags": []
          }
        },
        {
          "output_type": "display_data",
          "data": {
            "application/javascript": [
              "\n",
              "        (async () => {\n",
              "            const url = new URL(await google.colab.kernel.proxyPort(6006, {'cache': true}));\n",
              "            url.searchParams.set('tensorboardColab', 'true');\n",
              "            const iframe = document.createElement('iframe');\n",
              "            iframe.src = url;\n",
              "            iframe.setAttribute('width', '100%');\n",
              "            iframe.setAttribute('height', '800');\n",
              "            iframe.setAttribute('frameborder', 0);\n",
              "            document.body.appendChild(iframe);\n",
              "        })();\n",
              "    "
            ],
            "text/plain": [
              "<IPython.core.display.Javascript object>"
            ]
          },
          "metadata": {
            "tags": []
          }
        }
      ]
    }
  ]
}