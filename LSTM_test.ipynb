{
  "nbformat": 4,
  "nbformat_minor": 5,
  "metadata": {
    "accelerator": "GPU",
    "colab": {
      "name": "LSTM_pred_v3.ipynb",
      "provenance": [],
      "collapsed_sections": []
    },
    "kernelspec": {
      "display_name": "Python 3",
      "name": "python3"
    },
    "language_info": {
      "name": "python"
    }
  },
  "cells": [
    {
      "cell_type": "code",
      "metadata": {
        "id": "0DTCp-N24CPg"
      },
      "source": [
        "!pip install -q -U keras-tuner"
      ],
      "id": "0DTCp-N24CPg",
      "execution_count": null,
      "outputs": []
    },
    {
      "cell_type": "code",
      "metadata": {
        "id": "atomic-suggestion"
      },
      "source": [
        "import numpy as np\n",
        "import matplotlib.pyplot as plt\n",
        "import pandas as pd\n",
        "from sklearn.preprocessing import MinMaxScaler\n",
        "from datetime import datetime\n",
        "import tensorflow as tf\n",
        "from tensorflow import keras\n",
        "from tensorflow.keras import regularizers\n",
        "import kerastuner as kt\n",
        "from keras.layers.advanced_activations import PReLU\n",
        "from tensorflow.keras.layers import BatchNormalization\n",
        "from keras.layers.wrappers import Bidirectional\n",
        "#import tensorflow_addons as tfa"
      ],
      "id": "atomic-suggestion",
      "execution_count": null,
      "outputs": []
    },
    {
      "cell_type": "code",
      "metadata": {
        "colab": {
          "base_uri": "https://localhost:8080/"
        },
        "id": "QhYtJv3FfMTm",
        "outputId": "b63feda3-e65e-4880-b63a-82cfcea626c7"
      },
      "source": [
        "from google.colab import drive\n",
        "drive.mount('/content/gdrive')"
      ],
      "id": "QhYtJv3FfMTm",
      "execution_count": null,
      "outputs": [
        {
          "output_type": "stream",
          "text": [
            "Drive already mounted at /content/gdrive; to attempt to forcibly remount, call drive.mount(\"/content/gdrive\", force_remount=True).\n"
          ],
          "name": "stdout"
        }
      ]
    },
    {
      "cell_type": "code",
      "metadata": {
        "id": "stainless-mirror"
      },
      "source": [
        "data = pd.read_csv('/content/gdrive/My Drive/TSLA.csv', date_parser = True)"
      ],
      "id": "stainless-mirror",
      "execution_count": null,
      "outputs": []
    },
    {
      "cell_type": "code",
      "metadata": {
        "colab": {
          "base_uri": "https://localhost:8080/"
        },
        "id": "oxer-_bHP0-S",
        "outputId": "9a3ce88b-e47b-4811-cdf1-521813d5572f"
      },
      "source": [
        "data.shape"
      ],
      "id": "oxer-_bHP0-S",
      "execution_count": null,
      "outputs": [
        {
          "output_type": "execute_result",
          "data": {
            "text/plain": [
              "(2711, 7)"
            ]
          },
          "metadata": {
            "tags": []
          },
          "execution_count": 5
        }
      ]
    },
    {
      "cell_type": "code",
      "metadata": {
        "id": "lucky-joint"
      },
      "source": [
        "data_training = data[data['Date']<'2020-01-01'].copy()\n",
        "data_test = data[data['Date']>='2020-01-01'].copy()"
      ],
      "id": "lucky-joint",
      "execution_count": null,
      "outputs": []
    },
    {
      "cell_type": "code",
      "metadata": {
        "id": "varying-stamp"
      },
      "source": [
        "data_training = data_training.drop(['Date', 'Adj Close'], axis = 1)\n",
        "data_test = data_test.drop(['Date', 'Adj Close'], axis = 1)"
      ],
      "id": "varying-stamp",
      "execution_count": null,
      "outputs": []
    },
    {
      "cell_type": "code",
      "metadata": {
        "colab": {
          "base_uri": "https://localhost:8080/",
          "height": 81
        },
        "id": "aRgy1Gpq0BI8",
        "outputId": "f72ed320-e671-4a3e-9f84-b0bd848f1d34"
      },
      "source": [
        "data_test[-1:]"
      ],
      "id": "aRgy1Gpq0BI8",
      "execution_count": null,
      "outputs": [
        {
          "output_type": "execute_result",
          "data": {
            "text/html": [
              "<div>\n",
              "<style scoped>\n",
              "    .dataframe tbody tr th:only-of-type {\n",
              "        vertical-align: middle;\n",
              "    }\n",
              "\n",
              "    .dataframe tbody tr th {\n",
              "        vertical-align: top;\n",
              "    }\n",
              "\n",
              "    .dataframe thead th {\n",
              "        text-align: right;\n",
              "    }\n",
              "</style>\n",
              "<table border=\"1\" class=\"dataframe\">\n",
              "  <thead>\n",
              "    <tr style=\"text-align: right;\">\n",
              "      <th></th>\n",
              "      <th>Open</th>\n",
              "      <th>High</th>\n",
              "      <th>Low</th>\n",
              "      <th>Close</th>\n",
              "      <th>Volume</th>\n",
              "    </tr>\n",
              "  </thead>\n",
              "  <tbody>\n",
              "    <tr>\n",
              "      <th>2710</th>\n",
              "      <td>690.299988</td>\n",
              "      <td>696.549988</td>\n",
              "      <td>681.369995</td>\n",
              "      <td>691.619995</td>\n",
              "      <td>28234200</td>\n",
              "    </tr>\n",
              "  </tbody>\n",
              "</table>\n",
              "</div>"
            ],
            "text/plain": [
              "            Open        High         Low       Close    Volume\n",
              "2710  690.299988  696.549988  681.369995  691.619995  28234200"
            ]
          },
          "metadata": {
            "tags": []
          },
          "execution_count": 8
        }
      ]
    },
    {
      "cell_type": "code",
      "metadata": {
        "id": "E52WDME90Odt"
      },
      "source": [
        "day_interval=60"
      ],
      "id": "E52WDME90Odt",
      "execution_count": null,
      "outputs": []
    },
    {
      "cell_type": "code",
      "metadata": {
        "id": "HsCZsNz2Jti8"
      },
      "source": [
        "past_30_days = data_training.tail(day_interval)\n",
        "df = past_30_days.append(data_test)"
      ],
      "id": "HsCZsNz2Jti8",
      "execution_count": null,
      "outputs": []
    },
    {
      "cell_type": "code",
      "metadata": {
        "id": "pursuant-penny"
      },
      "source": [
        "scaler = MinMaxScaler()\n",
        "data_training = scaler.fit_transform(data_training)"
      ],
      "id": "pursuant-penny",
      "execution_count": null,
      "outputs": []
    },
    {
      "cell_type": "code",
      "metadata": {
        "colab": {
          "base_uri": "https://localhost:8080/"
        },
        "id": "DnPCQvT7X-LV",
        "outputId": "df4d2441-701c-447c-db5f-71f02077fc36"
      },
      "source": [
        "train_size = data_training.shape[0]\n",
        "print(train_size)"
      ],
      "id": "DnPCQvT7X-LV",
      "execution_count": null,
      "outputs": [
        {
          "output_type": "stream",
          "text": [
            "2394\n"
          ],
          "name": "stdout"
        }
      ]
    },
    {
      "cell_type": "code",
      "metadata": {
        "id": "official-incident"
      },
      "source": [
        "X_train = []\n",
        "y_train = []\n",
        "\n",
        "for i in range(day_interval, data_training.shape[0]):\n",
        "    X_train.append(data_training[i-day_interval:i])\n",
        "    y_train.append(data_training[i, 0])\n",
        "    \n",
        "X_train, y_train = np.array(X_train), np.array(y_train)"
      ],
      "id": "official-incident",
      "execution_count": null,
      "outputs": []
    },
    {
      "cell_type": "code",
      "metadata": {
        "colab": {
          "base_uri": "https://localhost:8080/"
        },
        "id": "studied-newspaper",
        "outputId": "83e0aa94-61bd-47b5-ea5f-0dde4b0ac329"
      },
      "source": [
        "X_train.shape"
      ],
      "id": "studied-newspaper",
      "execution_count": null,
      "outputs": [
        {
          "output_type": "execute_result",
          "data": {
            "text/plain": [
              "(2334, 60, 5)"
            ]
          },
          "metadata": {
            "tags": []
          },
          "execution_count": 14
        }
      ]
    },
    {
      "cell_type": "code",
      "metadata": {
        "colab": {
          "base_uri": "https://localhost:8080/"
        },
        "id": "Jyx_i9Lu-6A2",
        "outputId": "0f93667b-9047-445f-f40a-f6916003a5cb"
      },
      "source": [
        "y_train.shape"
      ],
      "id": "Jyx_i9Lu-6A2",
      "execution_count": null,
      "outputs": [
        {
          "output_type": "execute_result",
          "data": {
            "text/plain": [
              "(2334,)"
            ]
          },
          "metadata": {
            "tags": []
          },
          "execution_count": 15
        }
      ]
    },
    {
      "cell_type": "code",
      "metadata": {
        "id": "L2X-o4a93UXI"
      },
      "source": [
        "def model_builder(hp):\n",
        "  model = keras.Sequential()\n",
        "\n",
        "  hp_units = hp.Int('units', min_value=60, max_value=500, step=60)\n",
        "\n",
        "  model.add(Bidirectional(keras.layers.LSTM(units=hp_units, unroll= True, return_sequences = True, input_shape = (X_train.shape[1], X_train.shape[2]))))\n",
        "  model.add(PReLU())\n",
        "\n",
        "  model.add(Bidirectional(keras.layers.LSTM(units=hp_units,)))\n",
        "  model.add(PReLU())\n",
        "\n",
        "  model.add(keras.layers.Dense(1))\n",
        "\n",
        "  # Tune the learning rate for the optimizer\n",
        "  # Choose an optimal value from 0.001, or 0.0001\n",
        "  hp_learning_rate = hp.Choice('learning_rate', values=[1e-3, 1e-4])\n",
        "\n",
        "  model.compile(optimizer=keras.optimizers.Adam(learning_rate=hp_learning_rate),\n",
        "                loss=tf.keras.losses.MeanSquaredLogarithmicError(),\n",
        "                metrics=['mse'])\n",
        "\n",
        "  return model"
      ],
      "id": "L2X-o4a93UXI",
      "execution_count": null,
      "outputs": []
    },
    {
      "cell_type": "code",
      "metadata": {
        "colab": {
          "base_uri": "https://localhost:8080/"
        },
        "id": "p-iytv5G4RLy",
        "outputId": "eae4a0b5-82d4-4d4c-9663-9251a7ae8f7b"
      },
      "source": [
        "tuner = kt.Hyperband(model_builder,\n",
        "            objective='val_loss',\n",
        "            max_epochs=10,\n",
        "            factor=3,\n",
        "            directory='my_dir',\n",
        "            project_name='stock_predv4')"
      ],
      "id": "p-iytv5G4RLy",
      "execution_count": null,
      "outputs": [
        {
          "output_type": "stream",
          "text": [
            "WARNING:tensorflow:Layer lstm will not use cuDNN kernel since it doesn't meet the cuDNN kernel criteria. It will use generic GPU kernel as fallback when running on GPU\n",
            "WARNING:tensorflow:Layer lstm will not use cuDNN kernel since it doesn't meet the cuDNN kernel criteria. It will use generic GPU kernel as fallback when running on GPU\n",
            "WARNING:tensorflow:Layer lstm will not use cuDNN kernel since it doesn't meet the cuDNN kernel criteria. It will use generic GPU kernel as fallback when running on GPU\n"
          ],
          "name": "stdout"
        }
      ]
    },
    {
      "cell_type": "code",
      "metadata": {
        "id": "m9uJJa_s4xPt"
      },
      "source": [
        "stop_early = tf.keras.callbacks.EarlyStopping(monitor='val_loss', patience=5)"
      ],
      "id": "m9uJJa_s4xPt",
      "execution_count": null,
      "outputs": []
    },
    {
      "cell_type": "code",
      "metadata": {
        "colab": {
          "base_uri": "https://localhost:8080/"
        },
        "id": "zSufA_d-4zKl",
        "outputId": "d7f7c093-c895-49c4-9084-5afad3a3d87b"
      },
      "source": [
        "tuner.search(X_train, y_train, epochs=50, validation_split=0.2, callbacks=[stop_early])\n",
        "\n",
        "# Get the optimal hyperparameters\n",
        "best_hps=tuner.get_best_hyperparameters(num_trials=1)[0]\n",
        "\n",
        "print(f\"\"\"\n",
        "The hyperparameter search is complete. The optimal number of units in the first densely-connected\n",
        "layer is {best_hps.get('units')} and the optimal learning rate for the optimizer\n",
        "is {best_hps.get('learning_rate')}.\n",
        "\"\"\")"
      ],
      "id": "zSufA_d-4zKl",
      "execution_count": null,
      "outputs": [
        {
          "output_type": "stream",
          "text": [
            "Trial 22 Complete [00h 00m 51s]\n",
            "val_loss: 0.002564831404015422\n",
            "\n",
            "Best val_loss So Far: 0.00038621845305897295\n",
            "Total elapsed time: 00h 19m 04s\n",
            "INFO:tensorflow:Oracle triggered exit\n",
            "\n",
            "The hyperparameter search is complete. The optimal number of units in the first densely-connected\n",
            "layer is 240 and the optimal learning rate for the optimizer\n",
            "is 0.001.\n",
            "\n"
          ],
          "name": "stdout"
        }
      ]
    },
    {
      "cell_type": "code",
      "metadata": {
        "colab": {
          "base_uri": "https://localhost:8080/"
        },
        "id": "Cz8GKKa545Jp",
        "outputId": "96fe658e-330a-461e-ed01-73f20fd4d3c4"
      },
      "source": [
        "# Build the model with the optimal hyperparameters and train it on the data for 50 epochs\n",
        "model = tuner.hypermodel.build(best_hps)\n",
        "history = model.fit(X_train, y_train, epochs=50, validation_split=0.2)\n",
        "\n",
        "val_loss_per_epoch = history.history['val_loss']\n",
        "best_epoch = val_loss_per_epoch.index(min(val_loss_per_epoch))\n",
        "print('Best epoch: %d' % (best_epoch,))"
      ],
      "id": "Cz8GKKa545Jp",
      "execution_count": null,
      "outputs": [
        {
          "output_type": "stream",
          "text": [
            "WARNING:tensorflow:Layer lstm will not use cuDNN kernel since it doesn't meet the cuDNN kernel criteria. It will use generic GPU kernel as fallback when running on GPU\n",
            "WARNING:tensorflow:Layer lstm will not use cuDNN kernel since it doesn't meet the cuDNN kernel criteria. It will use generic GPU kernel as fallback when running on GPU\n",
            "WARNING:tensorflow:Layer lstm will not use cuDNN kernel since it doesn't meet the cuDNN kernel criteria. It will use generic GPU kernel as fallback when running on GPU\n",
            "Epoch 1/50\n",
            "59/59 [==============================] - 35s 181ms/step - loss: 0.0132 - mse: 0.0240 - val_loss: 0.0013 - val_mse: 0.0035\n",
            "Epoch 2/50\n",
            "59/59 [==============================] - 7s 114ms/step - loss: 3.1072e-04 - mse: 7.1479e-04 - val_loss: 9.0138e-04 - val_mse: 0.0025\n",
            "Epoch 3/50\n",
            "59/59 [==============================] - 7s 113ms/step - loss: 2.6671e-04 - mse: 6.1453e-04 - val_loss: 5.8569e-04 - val_mse: 0.0017\n",
            "Epoch 4/50\n",
            "59/59 [==============================] - 7s 112ms/step - loss: 1.8297e-04 - mse: 4.3136e-04 - val_loss: 5.7159e-04 - val_mse: 0.0016\n",
            "Epoch 5/50\n",
            "59/59 [==============================] - 7s 113ms/step - loss: 2.1321e-04 - mse: 5.0252e-04 - val_loss: 0.0010 - val_mse: 0.0029\n",
            "Epoch 6/50\n",
            "59/59 [==============================] - 7s 114ms/step - loss: 2.9089e-04 - mse: 6.8624e-04 - val_loss: 4.8565e-04 - val_mse: 0.0014\n",
            "Epoch 7/50\n",
            "59/59 [==============================] - 7s 113ms/step - loss: 2.0624e-04 - mse: 4.8626e-04 - val_loss: 3.5193e-04 - val_mse: 9.9440e-04\n",
            "Epoch 8/50\n",
            "59/59 [==============================] - 7s 113ms/step - loss: 1.2317e-04 - mse: 2.8045e-04 - val_loss: 3.5697e-04 - val_mse: 9.9203e-04\n",
            "Epoch 9/50\n",
            "59/59 [==============================] - 7s 113ms/step - loss: 1.1517e-04 - mse: 2.6340e-04 - val_loss: 3.1571e-04 - val_mse: 8.9218e-04\n",
            "Epoch 10/50\n",
            "59/59 [==============================] - 7s 113ms/step - loss: 1.0289e-04 - mse: 2.3449e-04 - val_loss: 2.8461e-04 - val_mse: 7.9522e-04\n",
            "Epoch 11/50\n",
            "59/59 [==============================] - 7s 114ms/step - loss: 8.9704e-05 - mse: 2.0663e-04 - val_loss: 2.5651e-04 - val_mse: 7.1751e-04\n",
            "Epoch 12/50\n",
            "59/59 [==============================] - 7s 113ms/step - loss: 8.9048e-05 - mse: 2.0412e-04 - val_loss: 2.7564e-04 - val_mse: 7.7711e-04\n",
            "Epoch 13/50\n",
            "59/59 [==============================] - 7s 113ms/step - loss: 8.3844e-05 - mse: 1.9236e-04 - val_loss: 6.3698e-04 - val_mse: 0.0018\n",
            "Epoch 14/50\n",
            "59/59 [==============================] - 7s 113ms/step - loss: 1.2887e-04 - mse: 3.0539e-04 - val_loss: 5.3093e-04 - val_mse: 0.0015\n",
            "Epoch 15/50\n",
            "59/59 [==============================] - 7s 113ms/step - loss: 1.5981e-04 - mse: 3.7629e-04 - val_loss: 2.1212e-04 - val_mse: 5.9113e-04\n",
            "Epoch 16/50\n",
            "59/59 [==============================] - 7s 113ms/step - loss: 7.6036e-05 - mse: 1.7255e-04 - val_loss: 1.9959e-04 - val_mse: 5.5327e-04\n",
            "Epoch 17/50\n",
            "59/59 [==============================] - 7s 113ms/step - loss: 6.5291e-05 - mse: 1.4880e-04 - val_loss: 1.8524e-04 - val_mse: 5.1537e-04\n",
            "Epoch 18/50\n",
            "59/59 [==============================] - 7s 114ms/step - loss: 7.5840e-05 - mse: 1.7299e-04 - val_loss: 1.7630e-04 - val_mse: 4.8893e-04\n",
            "Epoch 19/50\n",
            "59/59 [==============================] - 7s 113ms/step - loss: 7.1781e-05 - mse: 1.6146e-04 - val_loss: 2.4420e-04 - val_mse: 6.8044e-04\n",
            "Epoch 20/50\n",
            "59/59 [==============================] - 7s 113ms/step - loss: 1.0136e-04 - mse: 2.2929e-04 - val_loss: 1.6528e-04 - val_mse: 4.5686e-04\n",
            "Epoch 21/50\n",
            "59/59 [==============================] - 7s 113ms/step - loss: 6.9943e-05 - mse: 1.6475e-04 - val_loss: 1.6079e-04 - val_mse: 4.4389e-04\n",
            "Epoch 22/50\n",
            "59/59 [==============================] - 7s 113ms/step - loss: 7.0264e-05 - mse: 1.6069e-04 - val_loss: 3.4849e-04 - val_mse: 9.7674e-04\n",
            "Epoch 23/50\n",
            "59/59 [==============================] - 7s 112ms/step - loss: 9.1031e-05 - mse: 2.1284e-04 - val_loss: 1.6519e-04 - val_mse: 4.5685e-04\n",
            "Epoch 24/50\n",
            "59/59 [==============================] - 7s 114ms/step - loss: 6.6216e-05 - mse: 1.4483e-04 - val_loss: 3.2293e-04 - val_mse: 9.0168e-04\n",
            "Epoch 25/50\n",
            "59/59 [==============================] - 7s 112ms/step - loss: 9.8612e-05 - mse: 2.3139e-04 - val_loss: 1.8558e-04 - val_mse: 5.1285e-04\n",
            "Epoch 26/50\n",
            "59/59 [==============================] - 7s 113ms/step - loss: 6.9008e-05 - mse: 1.6184e-04 - val_loss: 2.6204e-04 - val_mse: 7.3305e-04\n",
            "Epoch 27/50\n",
            "59/59 [==============================] - 7s 114ms/step - loss: 5.4479e-05 - mse: 1.2310e-04 - val_loss: 1.5664e-04 - val_mse: 4.3577e-04\n",
            "Epoch 28/50\n",
            "59/59 [==============================] - 7s 113ms/step - loss: 5.5296e-05 - mse: 1.2648e-04 - val_loss: 1.2691e-04 - val_mse: 3.5071e-04\n",
            "Epoch 29/50\n",
            "59/59 [==============================] - 7s 113ms/step - loss: 5.2793e-05 - mse: 1.1690e-04 - val_loss: 2.6951e-04 - val_mse: 7.5365e-04\n",
            "Epoch 30/50\n",
            "59/59 [==============================] - 7s 113ms/step - loss: 7.6166e-05 - mse: 1.7953e-04 - val_loss: 1.4947e-04 - val_mse: 4.2000e-04\n",
            "Epoch 31/50\n",
            "59/59 [==============================] - 7s 113ms/step - loss: 4.9046e-05 - mse: 1.1223e-04 - val_loss: 1.2334e-04 - val_mse: 3.4231e-04\n",
            "Epoch 32/50\n",
            "59/59 [==============================] - 7s 113ms/step - loss: 6.5317e-05 - mse: 1.5146e-04 - val_loss: 1.1678e-04 - val_mse: 3.2175e-04\n",
            "Epoch 33/50\n",
            "59/59 [==============================] - 7s 113ms/step - loss: 4.6138e-05 - mse: 1.0109e-04 - val_loss: 1.0560e-04 - val_mse: 2.9032e-04\n",
            "Epoch 34/50\n",
            "59/59 [==============================] - 7s 114ms/step - loss: 4.6712e-05 - mse: 1.0490e-04 - val_loss: 1.9941e-04 - val_mse: 5.5030e-04\n",
            "Epoch 35/50\n",
            "59/59 [==============================] - 7s 113ms/step - loss: 4.4064e-05 - mse: 9.9362e-05 - val_loss: 1.0795e-04 - val_mse: 2.9641e-04\n",
            "Epoch 36/50\n",
            "59/59 [==============================] - 7s 114ms/step - loss: 4.5345e-05 - mse: 9.8615e-05 - val_loss: 9.8696e-05 - val_mse: 2.7120e-04\n",
            "Epoch 37/50\n",
            "59/59 [==============================] - 7s 113ms/step - loss: 3.9411e-05 - mse: 8.8699e-05 - val_loss: 1.0314e-04 - val_mse: 2.8313e-04\n",
            "Epoch 38/50\n",
            "59/59 [==============================] - 7s 113ms/step - loss: 4.6359e-05 - mse: 1.0170e-04 - val_loss: 9.4207e-05 - val_mse: 2.5852e-04\n",
            "Epoch 39/50\n",
            "59/59 [==============================] - 7s 113ms/step - loss: 3.8751e-05 - mse: 8.3958e-05 - val_loss: 1.3299e-04 - val_mse: 3.6843e-04\n",
            "Epoch 40/50\n",
            "59/59 [==============================] - 7s 113ms/step - loss: 4.9272e-05 - mse: 1.1398e-04 - val_loss: 1.1162e-04 - val_mse: 3.0882e-04\n",
            "Epoch 41/50\n",
            "59/59 [==============================] - 7s 114ms/step - loss: 4.0873e-05 - mse: 9.1902e-05 - val_loss: 1.0700e-04 - val_mse: 2.9528e-04\n",
            "Epoch 42/50\n",
            "59/59 [==============================] - 7s 113ms/step - loss: 3.5447e-05 - mse: 8.0044e-05 - val_loss: 1.5803e-04 - val_mse: 4.3999e-04\n",
            "Epoch 43/50\n",
            "59/59 [==============================] - 7s 113ms/step - loss: 3.9519e-05 - mse: 9.0055e-05 - val_loss: 1.3620e-04 - val_mse: 3.7915e-04\n",
            "Epoch 44/50\n",
            "59/59 [==============================] - 7s 114ms/step - loss: 3.4858e-05 - mse: 7.5413e-05 - val_loss: 1.0111e-04 - val_mse: 2.7700e-04\n",
            "Epoch 45/50\n",
            "59/59 [==============================] - 7s 114ms/step - loss: 4.0410e-05 - mse: 9.0642e-05 - val_loss: 1.1936e-04 - val_mse: 3.2700e-04\n",
            "Epoch 46/50\n",
            "59/59 [==============================] - 7s 113ms/step - loss: 3.8678e-05 - mse: 8.6823e-05 - val_loss: 1.7244e-04 - val_mse: 4.8475e-04\n",
            "Epoch 47/50\n",
            "59/59 [==============================] - 7s 113ms/step - loss: 3.1487e-05 - mse: 7.1918e-05 - val_loss: 1.2291e-04 - val_mse: 3.4281e-04\n",
            "Epoch 48/50\n",
            "59/59 [==============================] - 7s 113ms/step - loss: 2.9730e-05 - mse: 6.6625e-05 - val_loss: 1.0336e-04 - val_mse: 2.8464e-04\n",
            "Epoch 49/50\n",
            "59/59 [==============================] - 7s 114ms/step - loss: 2.8527e-05 - mse: 6.3780e-05 - val_loss: 1.0791e-04 - val_mse: 2.9853e-04\n",
            "Epoch 50/50\n",
            "59/59 [==============================] - 7s 113ms/step - loss: 2.8491e-05 - mse: 6.3304e-05 - val_loss: 1.2779e-04 - val_mse: 3.4751e-04\n",
            "Best epoch: 37\n"
          ],
          "name": "stdout"
        }
      ]
    },
    {
      "cell_type": "code",
      "metadata": {
        "id": "Uw5NBwfMybJd"
      },
      "source": [
        "logdir = \"logs/scalars/\" + datetime.now().strftime(\"%Y%m%d-%H%M%S\")\n",
        "tensorboard_callback = keras.callbacks.TensorBoard(log_dir=logdir)"
      ],
      "id": "Uw5NBwfMybJd",
      "execution_count": null,
      "outputs": []
    },
    {
      "cell_type": "code",
      "metadata": {
        "colab": {
          "background_save": true,
          "base_uri": "https://localhost:8080/"
        },
        "id": "U7GjKbcc4_C1",
        "outputId": "3477934a-ed5e-4513-d070-564c366b38b4"
      },
      "source": [
        "hypermodel = tuner.hypermodel.build(best_hps)\n",
        "\n",
        "# Retrain the model\n",
        "hypermodel.fit(X_train, y_train, epochs=best_epoch, validation_split=0.2, callbacks=[tensorboard_callback],)"
      ],
      "id": "U7GjKbcc4_C1",
      "execution_count": null,
      "outputs": [
        {
          "output_type": "stream",
          "text": [
            "WARNING:tensorflow:Layer lstm will not use cuDNN kernel since it doesn't meet the cuDNN kernel criteria. It will use generic GPU kernel as fallback when running on GPU\n",
            "WARNING:tensorflow:Layer lstm will not use cuDNN kernel since it doesn't meet the cuDNN kernel criteria. It will use generic GPU kernel as fallback when running on GPU\n",
            "WARNING:tensorflow:Layer lstm will not use cuDNN kernel since it doesn't meet the cuDNN kernel criteria. It will use generic GPU kernel as fallback when running on GPU\n",
            "Epoch 1/37\n",
            "59/59 [==============================] - 36s 204ms/step - loss: 0.0418 - mse: 0.0741 - val_loss: 0.0013 - val_mse: 0.0036\n",
            "Epoch 2/37\n",
            "59/59 [==============================] - 7s 113ms/step - loss: 4.0180e-04 - mse: 9.2827e-04 - val_loss: 5.7609e-04 - val_mse: 0.0016\n",
            "Epoch 3/37\n",
            "59/59 [==============================] - 7s 112ms/step - loss: 2.1844e-04 - mse: 5.1543e-04 - val_loss: 5.5647e-04 - val_mse: 0.0016\n",
            "Epoch 4/37\n",
            "59/59 [==============================] - 7s 112ms/step - loss: 1.7751e-04 - mse: 4.0888e-04 - val_loss: 7.8045e-04 - val_mse: 0.0023\n",
            "Epoch 5/37\n",
            "59/59 [==============================] - 7s 112ms/step - loss: 2.0689e-04 - mse: 4.9078e-04 - val_loss: 7.6202e-04 - val_mse: 0.0022\n",
            "Epoch 6/37\n",
            "59/59 [==============================] - 7s 112ms/step - loss: 1.8385e-04 - mse: 4.2784e-04 - val_loss: 4.1399e-04 - val_mse: 0.0012\n",
            "Epoch 7/37\n",
            "59/59 [==============================] - 7s 112ms/step - loss: 1.3912e-04 - mse: 3.2498e-04 - val_loss: 3.6180e-04 - val_mse: 0.0010\n",
            "Epoch 8/37\n",
            "59/59 [==============================] - 7s 112ms/step - loss: 1.2887e-04 - mse: 2.9822e-04 - val_loss: 3.1997e-04 - val_mse: 9.0743e-04\n",
            "Epoch 9/37\n",
            "59/59 [==============================] - 7s 112ms/step - loss: 1.0753e-04 - mse: 2.5305e-04 - val_loss: 2.6753e-04 - val_mse: 7.4786e-04\n",
            "Epoch 10/37\n",
            "59/59 [==============================] - 7s 112ms/step - loss: 9.4518e-05 - mse: 2.1263e-04 - val_loss: 4.7976e-04 - val_mse: 0.0013\n",
            "Epoch 11/37\n",
            "59/59 [==============================] - 7s 112ms/step - loss: 1.3040e-04 - mse: 3.0356e-04 - val_loss: 2.7389e-04 - val_mse: 7.7387e-04\n",
            "Epoch 12/37\n",
            "59/59 [==============================] - 7s 113ms/step - loss: 1.0359e-04 - mse: 2.3627e-04 - val_loss: 6.6200e-04 - val_mse: 0.0019\n",
            "Epoch 13/37\n",
            "59/59 [==============================] - 7s 112ms/step - loss: 1.4324e-04 - mse: 3.2200e-04 - val_loss: 4.6054e-04 - val_mse: 0.0013\n",
            "Epoch 14/37\n",
            "59/59 [==============================] - 7s 111ms/step - loss: 1.2097e-04 - mse: 2.8155e-04 - val_loss: 3.3174e-04 - val_mse: 9.2297e-04\n",
            "Epoch 15/37\n",
            "59/59 [==============================] - 7s 112ms/step - loss: 1.1775e-04 - mse: 2.7520e-04 - val_loss: 2.1117e-04 - val_mse: 5.9058e-04\n",
            "Epoch 16/37\n",
            "59/59 [==============================] - 7s 113ms/step - loss: 7.3329e-05 - mse: 1.6703e-04 - val_loss: 2.4199e-04 - val_mse: 6.7084e-04\n",
            "Epoch 17/37\n",
            "59/59 [==============================] - 7s 112ms/step - loss: 7.3823e-05 - mse: 1.6575e-04 - val_loss: 2.2880e-04 - val_mse: 6.3497e-04\n",
            "Epoch 18/37\n",
            "59/59 [==============================] - 7s 113ms/step - loss: 8.0134e-05 - mse: 1.7929e-04 - val_loss: 1.7453e-04 - val_mse: 4.8467e-04\n",
            "Epoch 19/37\n",
            "59/59 [==============================] - 7s 113ms/step - loss: 7.6359e-05 - mse: 1.7845e-04 - val_loss: 1.6249e-04 - val_mse: 4.4865e-04\n",
            "Epoch 20/37\n",
            "59/59 [==============================] - 7s 113ms/step - loss: 7.3110e-05 - mse: 1.6699e-04 - val_loss: 2.3153e-04 - val_mse: 6.4633e-04\n",
            "Epoch 21/37\n",
            "59/59 [==============================] - 7s 112ms/step - loss: 8.8075e-05 - mse: 2.0853e-04 - val_loss: 1.7013e-04 - val_mse: 4.7245e-04\n",
            "Epoch 22/37\n",
            "59/59 [==============================] - 7s 112ms/step - loss: 6.6245e-05 - mse: 1.5068e-04 - val_loss: 1.4906e-04 - val_mse: 4.1015e-04\n",
            "Epoch 23/37\n",
            "59/59 [==============================] - 7s 112ms/step - loss: 6.2107e-05 - mse: 1.3808e-04 - val_loss: 1.4410e-04 - val_mse: 3.9741e-04\n",
            "Epoch 24/37\n",
            "59/59 [==============================] - 7s 112ms/step - loss: 6.6608e-05 - mse: 1.4925e-04 - val_loss: 1.3119e-04 - val_mse: 3.6260e-04\n",
            "Epoch 25/37\n",
            "59/59 [==============================] - 7s 113ms/step - loss: 5.4902e-05 - mse: 1.2265e-04 - val_loss: 1.5826e-04 - val_mse: 4.3854e-04\n",
            "Epoch 26/37\n",
            "59/59 [==============================] - 7s 112ms/step - loss: 6.5838e-05 - mse: 1.5055e-04 - val_loss: 1.2892e-04 - val_mse: 3.5623e-04\n",
            "Epoch 27/37\n",
            "59/59 [==============================] - 7s 113ms/step - loss: 5.2971e-05 - mse: 1.1538e-04 - val_loss: 3.0440e-04 - val_mse: 8.5890e-04\n",
            "Epoch 28/37\n",
            "59/59 [==============================] - 7s 113ms/step - loss: 6.5304e-05 - mse: 1.5182e-04 - val_loss: 1.3840e-04 - val_mse: 3.8094e-04\n",
            "Epoch 29/37\n",
            "59/59 [==============================] - 7s 113ms/step - loss: 5.7049e-05 - mse: 1.3107e-04 - val_loss: 1.1256e-04 - val_mse: 3.1039e-04\n",
            "Epoch 30/37\n",
            "59/59 [==============================] - 7s 112ms/step - loss: 4.5653e-05 - mse: 1.0297e-04 - val_loss: 1.0808e-04 - val_mse: 2.9801e-04\n",
            "Epoch 31/37\n",
            "59/59 [==============================] - 7s 112ms/step - loss: 4.0827e-05 - mse: 8.9858e-05 - val_loss: 1.0453e-04 - val_mse: 2.8740e-04\n",
            "Epoch 32/37\n",
            "59/59 [==============================] - 7s 113ms/step - loss: 5.7618e-05 - mse: 1.3157e-04 - val_loss: 1.1475e-04 - val_mse: 3.1689e-04\n",
            "Epoch 33/37\n",
            "59/59 [==============================] - 7s 112ms/step - loss: 5.3122e-05 - mse: 1.2008e-04 - val_loss: 1.2525e-04 - val_mse: 3.4743e-04\n",
            "Epoch 34/37\n",
            "59/59 [==============================] - 7s 112ms/step - loss: 4.2582e-05 - mse: 9.3174e-05 - val_loss: 1.0294e-04 - val_mse: 2.8235e-04\n",
            "Epoch 35/37\n",
            "59/59 [==============================] - 7s 113ms/step - loss: 3.3437e-05 - mse: 7.2840e-05 - val_loss: 2.0142e-04 - val_mse: 5.6050e-04\n",
            "Epoch 36/37\n",
            "59/59 [==============================] - 7s 113ms/step - loss: 4.8028e-05 - mse: 1.0729e-04 - val_loss: 9.7092e-05 - val_mse: 2.6648e-04\n",
            "Epoch 37/37\n",
            "59/59 [==============================] - 7s 112ms/step - loss: 5.1692e-05 - mse: 1.1697e-04 - val_loss: 1.1369e-04 - val_mse: 3.1435e-04\n"
          ],
          "name": "stdout"
        },
        {
          "output_type": "execute_result",
          "data": {
            "text/plain": [
              "<tensorflow.python.keras.callbacks.History at 0x7f048cfed390>"
            ]
          },
          "metadata": {
            "tags": []
          },
          "execution_count": 0
        }
      ]
    },
    {
      "cell_type": "code",
      "metadata": {
        "colab": {
          "background_save": true
        },
        "id": "accurate-paint",
        "scrolled": true,
        "outputId": "ce63008b-91df-4536-8595-1c7d49751843"
      },
      "source": [
        "inputs = scaler.fit_transform(df)\n",
        "inputs.shape"
      ],
      "id": "accurate-paint",
      "execution_count": null,
      "outputs": [
        {
          "output_type": "execute_result",
          "data": {
            "text/plain": [
              "(377, 5)"
            ]
          },
          "metadata": {
            "tags": []
          },
          "execution_count": 0
        }
      ]
    },
    {
      "cell_type": "code",
      "metadata": {
        "colab": {
          "background_save": true
        },
        "id": "intense-commerce",
        "outputId": "028f63fe-62c4-4d8d-f055-05fcee80baef"
      },
      "source": [
        "X_test = []\n",
        "y_test = []\n",
        "\n",
        "for i in range(day_interval, inputs.shape[0]):\n",
        "    X_test.append(inputs[i-day_interval:i])\n",
        "    y_test.append(inputs[i, 0])\n",
        "\n",
        "X_test, y_test = np.array(X_test), np.array(y_test)\n",
        "X_test.shape, y_test.shape"
      ],
      "id": "intense-commerce",
      "execution_count": null,
      "outputs": [
        {
          "output_type": "execute_result",
          "data": {
            "text/plain": [
              "((317, 60, 5), (317,))"
            ]
          },
          "metadata": {
            "tags": []
          },
          "execution_count": 0
        }
      ]
    },
    {
      "cell_type": "code",
      "metadata": {
        "colab": {
          "background_save": true
        },
        "id": "r6XtghYO5N2m",
        "outputId": "e897ed2e-c03a-4de2-b0b4-3a5ac44568c9"
      },
      "source": [
        "eval_result = hypermodel.evaluate(X_test, y_test)\n",
        "print(\"[test loss, test mse]:\", eval_result)"
      ],
      "id": "r6XtghYO5N2m",
      "execution_count": null,
      "outputs": [
        {
          "output_type": "stream",
          "text": [
            "10/10 [==============================] - 0s 45ms/step - loss: 1.5464e-04 - mse: 3.1967e-04\n",
            "[test loss, test mse]: [0.00015463501040358096, 0.0003196692850906402]\n"
          ],
          "name": "stdout"
        }
      ]
    },
    {
      "cell_type": "code",
      "metadata": {
        "colab": {
          "background_save": true
        },
        "id": "appreciated-flight"
      },
      "source": [
        "y_pred = model.predict(X_test)"
      ],
      "id": "appreciated-flight",
      "execution_count": null,
      "outputs": []
    },
    {
      "cell_type": "code",
      "metadata": {
        "colab": {
          "background_save": true
        },
        "id": "nLDTI92opsx1",
        "outputId": "bda3b2a5-9869-46c2-f16d-0fb8d3d1e33e"
      },
      "source": [
        "y_pred.shape"
      ],
      "id": "nLDTI92opsx1",
      "execution_count": null,
      "outputs": [
        {
          "output_type": "execute_result",
          "data": {
            "text/plain": [
              "(317, 1)"
            ]
          },
          "metadata": {
            "tags": []
          },
          "execution_count": 0
        }
      ]
    },
    {
      "cell_type": "code",
      "metadata": {
        "colab": {
          "background_save": true
        },
        "id": "SUvbHdahxTAH",
        "outputId": "479f06cf-d86b-4110-a095-650b77084492"
      },
      "source": [
        "#Put last 60 day price to a input\n",
        "tmr = np.array([inputs[-60:]])\n",
        "tmr.shape"
      ],
      "id": "SUvbHdahxTAH",
      "execution_count": null,
      "outputs": [
        {
          "output_type": "execute_result",
          "data": {
            "text/plain": [
              "(1, 60, 5)"
            ]
          },
          "metadata": {
            "tags": []
          },
          "execution_count": 0
        }
      ]
    },
    {
      "cell_type": "code",
      "metadata": {
        "colab": {
          "background_save": true
        },
        "id": "multiple-breakfast",
        "outputId": "61e259f5-afb1-4a2c-e875-59ae31bf0354"
      },
      "source": [
        "#denormalization\n",
        "scale = 1/scaler.scale_[0]\n",
        "scale"
      ],
      "id": "multiple-breakfast",
      "execution_count": null,
      "outputs": [
        {
          "output_type": "execute_result",
          "data": {
            "text/plain": [
              "845.4200060000001"
            ]
          },
          "metadata": {
            "tags": []
          },
          "execution_count": 0
        }
      ]
    },
    {
      "cell_type": "code",
      "metadata": {
        "colab": {
          "background_save": true
        },
        "id": "chubby-constitution"
      },
      "source": [
        "#denormalization\n",
        "y_pred = y_pred*scale\n",
        "y_test = y_test*scale"
      ],
      "id": "chubby-constitution",
      "execution_count": null,
      "outputs": []
    },
    {
      "cell_type": "code",
      "metadata": {
        "colab": {
          "background_save": true
        },
        "id": "Pd79rG_qheDB",
        "outputId": "af45c83f-bb9e-496e-b3cb-79ce51d87edd"
      },
      "source": [
        "y_pred.shape,y_test.shape"
      ],
      "id": "Pd79rG_qheDB",
      "execution_count": null,
      "outputs": [
        {
          "output_type": "execute_result",
          "data": {
            "text/plain": [
              "((317, 1), (317,))"
            ]
          },
          "metadata": {
            "tags": []
          },
          "execution_count": 0
        }
      ]
    },
    {
      "cell_type": "code",
      "metadata": {
        "colab": {
          "background_save": true
        },
        "id": "eRxQhXHnxJzM",
        "outputId": "2556764a-31d5-4b69-fd3f-93dfcc3b4347"
      },
      "source": [
        "#Last of data\n",
        "y_test[-1]"
      ],
      "id": "eRxQhXHnxJzM",
      "execution_count": null,
      "outputs": [
        {
          "output_type": "execute_result",
          "data": {
            "text/plain": [
              "644.339989"
            ]
          },
          "metadata": {
            "tags": []
          },
          "execution_count": 0
        }
      ]
    },
    {
      "cell_type": "code",
      "metadata": {
        "colab": {
          "background_save": true
        },
        "id": "h6H6OlYpy1wo",
        "outputId": "df1c45e7-0373-419d-93ce-6d9728e599f8"
      },
      "source": [
        "#Last of chart predict result\n",
        "y_pred[-1][0]"
      ],
      "id": "h6H6OlYpy1wo",
      "execution_count": null,
      "outputs": [
        {
          "output_type": "execute_result",
          "data": {
            "text/plain": [
              "643.7298"
            ]
          },
          "metadata": {
            "tags": []
          },
          "execution_count": 0
        }
      ]
    },
    {
      "cell_type": "code",
      "metadata": {
        "colab": {
          "background_save": true
        },
        "id": "XAUJBUgiyGSt",
        "outputId": "d1a3e800-2bf9-4f75-ff6a-42595d95c924"
      },
      "source": [
        "print(\"the next day price\")\n",
        "print(model.predict(tmr)[0][0]*scale)"
      ],
      "id": "XAUJBUgiyGSt",
      "execution_count": null,
      "outputs": [
        {
          "output_type": "stream",
          "text": [
            "the next day price\n",
            "627.5463292432606\n"
          ],
          "name": "stdout"
        }
      ]
    },
    {
      "cell_type": "code",
      "metadata": {
        "colab": {
          "background_save": true
        },
        "id": "parental-secret",
        "outputId": "e737818d-f8b7-4cc8-f3dc-7c346e257c96"
      },
      "source": [
        "# Visualising the results\n",
        "plt.figure(figsize=(16,9))\n",
        "plt.plot(y_test, color = 'red', label = 'Real Stock Price')\n",
        "plt.plot(y_pred, color = 'blue', label = 'Predicted Stock Price')\n",
        "plt.title('Stock Price Prediction')\n",
        "plt.xlabel('Time')\n",
        "plt.ylabel('Stock Price')\n",
        "plt.legend()\n",
        "plt.show()"
      ],
      "id": "parental-secret",
      "execution_count": null,
      "outputs": [
        {
          "output_type": "display_data",
          "data": {
            "image/png": "[encoded data removed]",
            "text/plain": [
              "<Figure size 1152x648 with 1 Axes>"
            ]
          },
          "metadata": {
            "tags": []
          }
        }
      ]
    },
    {
      "cell_type": "code",
      "metadata": {
        "colab": {
          "background_save": true
        },
        "id": "Y-wZqBgXtCNC",
        "outputId": "ab8375b8-082c-4532-d463-2911a82d0e0b"
      },
      "source": [
        "!kill 2685\n",
        "%load_ext tensorboard\n",
        "%tensorboard --logdir my_dir"
      ],
      "id": "Y-wZqBgXtCNC",
      "execution_count": null,
      "outputs": [
        {
          "output_type": "stream",
          "text": [
            "/bin/bash: line 0: kill: (2685) - No such process\n"
          ],
          "name": "stdout"
        },
        {
          "output_type": "display_data",
          "data": {
            "text/plain": [
              "Reusing TensorBoard on port 6006 (pid 1049), started 1:23:47 ago. (Use '!kill 1049' to kill it.)"
            ]
          },
          "metadata": {
            "tags": []
          }
        },
        {
          "output_type": "display_data",
          "data": {
            "application/javascript": [
              "\n",
              "        (async () => {\n",
              "            const url = new URL(await google.colab.kernel.proxyPort(6006, {'cache': true}));\n",
              "            url.searchParams.set('tensorboardColab', 'true');\n",
              "            const iframe = document.createElement('iframe');\n",
              "            iframe.src = url;\n",
              "            iframe.setAttribute('width', '100%');\n",
              "            iframe.setAttribute('height', '800');\n",
              "            iframe.setAttribute('frameborder', 0);\n",
              "            document.body.appendChild(iframe);\n",
              "        })();\n",
              "    "
            ],
            "text/plain": [
              "<IPython.core.display.Javascript object>"
            ]
          },
          "metadata": {
            "tags": []
          }
        }
      ]
    }
  ]
}