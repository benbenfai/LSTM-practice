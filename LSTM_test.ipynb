{
  "nbformat": 4,
  "nbformat_minor": 5,
  "metadata": {
    "accelerator": "GPU",
    "colab": {
      "name": "LSTM_pred_v3.ipynb",
      "provenance": [],
      "collapsed_sections": []
    },
    "kernelspec": {
      "display_name": "Python 3",
      "name": "python3"
    },
    "language_info": {
      "name": "python"
    }
  },
  "cells": [
    {
      "cell_type": "code",
      "metadata": {
        "id": "0DTCp-N24CPg"
      },
      "source": [
        "!pip install -q -U keras-tuner"
      ],
      "id": "0DTCp-N24CPg",
      "execution_count": 1,
      "outputs": []
    },
    {
      "cell_type": "code",
      "metadata": {
        "id": "atomic-suggestion"
      },
      "source": [
        "import numpy as np\n",
        "import matplotlib.pyplot as plt\n",
        "import pandas as pd\n",
        "from sklearn.preprocessing import MinMaxScaler\n",
        "from datetime import datetime\n",
        "import tensorflow as tf\n",
        "from tensorflow import keras\n",
        "from tensorflow.keras import regularizers\n",
        "import kerastuner as kt\n",
        "from keras.layers.advanced_activations import PReLU\n",
        "from tensorflow.keras.layers import BatchNormalization\n",
        "from keras.layers.wrappers import Bidirectional"
      ],
      "id": "atomic-suggestion",
      "execution_count": 2,
      "outputs": []
    },
    {
      "cell_type": "code",
      "metadata": {
        "colab": {
          "base_uri": "https://localhost:8080/"
        },
        "id": "QhYtJv3FfMTm",
        "outputId": "84d7a9bf-e536-44ad-8bd6-0a4637a22967"
      },
      "source": [
        "from google.colab import drive\n",
        "drive.mount('/content/gdrive')"
      ],
      "id": "QhYtJv3FfMTm",
      "execution_count": 3,
      "outputs": [
        {
          "output_type": "stream",
          "text": [
            "Drive already mounted at /content/gdrive; to attempt to forcibly remount, call drive.mount(\"/content/gdrive\", force_remount=True).\n"
          ],
          "name": "stdout"
        }
      ]
    },
    {
      "cell_type": "code",
      "metadata": {
        "id": "stainless-mirror"
      },
      "source": [
        "data = pd.read_csv('/content/gdrive/My Drive/TSLA.csv', date_parser = True)"
      ],
      "id": "stainless-mirror",
      "execution_count": 4,
      "outputs": []
    },
    {
      "cell_type": "code",
      "metadata": {
        "colab": {
          "base_uri": "https://localhost:8080/"
        },
        "id": "oxer-_bHP0-S",
        "outputId": "e13c2f38-8405-473f-abb5-35a37b202996"
      },
      "source": [
        "data.shape"
      ],
      "id": "oxer-_bHP0-S",
      "execution_count": 5,
      "outputs": [
        {
          "output_type": "execute_result",
          "data": {
            "text/plain": [
              "(2704, 7)"
            ]
          },
          "metadata": {
            "tags": []
          },
          "execution_count": 5
        }
      ]
    },
    {
      "cell_type": "code",
      "metadata": {
        "id": "lucky-joint"
      },
      "source": [
        "data_training = data[data['Date']<'2020-01-01'].copy()\n",
        "data_test = data[data['Date']>='2020-01-01'].copy()"
      ],
      "id": "lucky-joint",
      "execution_count": 6,
      "outputs": []
    },
    {
      "cell_type": "code",
      "metadata": {
        "id": "varying-stamp"
      },
      "source": [
        "data_training = data_training.drop(['Date', 'Adj Close'], axis = 1)\n",
        "data_test = data_test.drop(['Date', 'Adj Close'], axis = 1)"
      ],
      "id": "varying-stamp",
      "execution_count": 7,
      "outputs": []
    },
    {
      "cell_type": "code",
      "metadata": {
        "colab": {
          "base_uri": "https://localhost:8080/",
          "height": 81
        },
        "id": "aRgy1Gpq0BI8",
        "outputId": "6f6486db-eedc-41b4-c5fe-c0ea83a28e4f"
      },
      "source": [
        "data_test[-1:]"
      ],
      "id": "aRgy1Gpq0BI8",
      "execution_count": 8,
      "outputs": [
        {
          "output_type": "execute_result",
          "data": {
            "text/html": [
              "<div>\n",
              "<style scoped>\n",
              "    .dataframe tbody tr th:only-of-type {\n",
              "        vertical-align: middle;\n",
              "    }\n",
              "\n",
              "    .dataframe tbody tr th {\n",
              "        vertical-align: top;\n",
              "    }\n",
              "\n",
              "    .dataframe thead th {\n",
              "        text-align: right;\n",
              "    }\n",
              "</style>\n",
              "<table border=\"1\" class=\"dataframe\">\n",
              "  <thead>\n",
              "    <tr style=\"text-align: right;\">\n",
              "      <th></th>\n",
              "      <th>Open</th>\n",
              "      <th>High</th>\n",
              "      <th>Low</th>\n",
              "      <th>Close</th>\n",
              "      <th>Volume</th>\n",
              "    </tr>\n",
              "  </thead>\n",
              "  <tbody>\n",
              "    <tr>\n",
              "      <th>2703</th>\n",
              "      <td>613.0</td>\n",
              "      <td>645.5</td>\n",
              "      <td>609.5</td>\n",
              "      <td>640.390015</td>\n",
              "      <td>39150700</td>\n",
              "    </tr>\n",
              "  </tbody>\n",
              "</table>\n",
              "</div>"
            ],
            "text/plain": [
              "       Open   High    Low       Close    Volume\n",
              "2703  613.0  645.5  609.5  640.390015  39150700"
            ]
          },
          "metadata": {
            "tags": []
          },
          "execution_count": 8
        }
      ]
    },
    {
      "cell_type": "code",
      "metadata": {
        "id": "E52WDME90Odt"
      },
      "source": [
        "day_interval=60"
      ],
      "id": "E52WDME90Odt",
      "execution_count": 9,
      "outputs": []
    },
    {
      "cell_type": "code",
      "metadata": {
        "id": "HsCZsNz2Jti8"
      },
      "source": [
        "past_30_days = data_training.tail(day_interval)\n",
        "df = past_30_days.append(data_test)"
      ],
      "id": "HsCZsNz2Jti8",
      "execution_count": 10,
      "outputs": []
    },
    {
      "cell_type": "code",
      "metadata": {
        "id": "pursuant-penny"
      },
      "source": [
        "scaler = MinMaxScaler()\n",
        "data_training = scaler.fit_transform(data_training)"
      ],
      "id": "pursuant-penny",
      "execution_count": 11,
      "outputs": []
    },
    {
      "cell_type": "code",
      "metadata": {
        "colab": {
          "base_uri": "https://localhost:8080/"
        },
        "id": "DnPCQvT7X-LV",
        "outputId": "c35296b1-4127-4281-ff2f-2e066351b97e"
      },
      "source": [
        "train_size = data_training.shape[0]\n",
        "print(train_size)"
      ],
      "id": "DnPCQvT7X-LV",
      "execution_count": 12,
      "outputs": [
        {
          "output_type": "stream",
          "text": [
            "2394\n"
          ],
          "name": "stdout"
        }
      ]
    },
    {
      "cell_type": "code",
      "metadata": {
        "id": "official-incident"
      },
      "source": [
        "X_train = []\n",
        "y_train = []\n",
        "\n",
        "for i in range(day_interval, data_training.shape[0]):\n",
        "    X_train.append(data_training[i-day_interval:i])\n",
        "    y_train.append(data_training[i, 0])\n",
        "    \n",
        "X_train, y_train = np.array(X_train), np.array(y_train)"
      ],
      "id": "official-incident",
      "execution_count": 13,
      "outputs": []
    },
    {
      "cell_type": "code",
      "metadata": {
        "colab": {
          "base_uri": "https://localhost:8080/"
        },
        "id": "studied-newspaper",
        "outputId": "16735a17-1ba5-406f-e38f-2deb23bbcf6d"
      },
      "source": [
        "X_train.shape"
      ],
      "id": "studied-newspaper",
      "execution_count": 14,
      "outputs": [
        {
          "output_type": "execute_result",
          "data": {
            "text/plain": [
              "(2334, 60, 5)"
            ]
          },
          "metadata": {
            "tags": []
          },
          "execution_count": 14
        }
      ]
    },
    {
      "cell_type": "code",
      "metadata": {
        "colab": {
          "base_uri": "https://localhost:8080/"
        },
        "id": "Jyx_i9Lu-6A2",
        "outputId": "f739c605-908d-4b9d-d622-02ae4f890245"
      },
      "source": [
        "y_train.shape"
      ],
      "id": "Jyx_i9Lu-6A2",
      "execution_count": 15,
      "outputs": [
        {
          "output_type": "execute_result",
          "data": {
            "text/plain": [
              "(2334,)"
            ]
          },
          "metadata": {
            "tags": []
          },
          "execution_count": 15
        }
      ]
    },
    {
      "cell_type": "code",
      "metadata": {
        "id": "L2X-o4a93UXI"
      },
      "source": [
        "def model_builder(hp):\n",
        "  model = keras.Sequential()\n",
        "\n",
        "  hp_units = hp.Int('units', min_value=60, max_value=120, step=60)\n",
        "\n",
        "  model.add(keras.layers.LSTM(units=hp_units, unroll= True, return_sequences = True, input_shape = (X_train.shape[1], X_train.shape[2])))\n",
        "  model.add(PReLU())\n",
        "\n",
        "  #model.add(keras.layers.LSTM(units=hp_units, unroll= True, return_sequences = True))\n",
        "  #model.add(PReLU())\n",
        "\n",
        "  model.add(keras.layers.LSTM(units=hp_units))\n",
        "  model.add(PReLU())\n",
        "\n",
        "  model.add(keras.layers.Dense(1))\n",
        "\n",
        "  # Tune the learning rate for the optimizer\n",
        "  # Choose an optimal value from 0.01, 0.001, or 0.0001\n",
        "  hp_learning_rate = hp.Choice('learning_rate', values=[1e-2, 1e-3, 1e-4])\n",
        "\n",
        "  model.compile(optimizer=keras.optimizers.Adam(learning_rate=hp_learning_rate),\n",
        "                loss=tf.keras.losses.MeanSquaredLogarithmicError(),\n",
        "                metrics=['mse'])\n",
        "\n",
        "  return model"
      ],
      "id": "L2X-o4a93UXI",
      "execution_count": 16,
      "outputs": []
    },
    {
      "cell_type": "code",
      "metadata": {
        "colab": {
          "base_uri": "https://localhost:8080/"
        },
        "id": "p-iytv5G4RLy",
        "outputId": "a40e5204-5742-4f9d-f376-ca3be9c01baf"
      },
      "source": [
        "tuner = kt.Hyperband(model_builder,\n",
        "            objective='val_loss',\n",
        "            max_epochs=10,\n",
        "            factor=3,\n",
        "            directory='my_dir',\n",
        "            project_name='stock_predv1')"
      ],
      "id": "p-iytv5G4RLy",
      "execution_count": 17,
      "outputs": [
        {
          "output_type": "stream",
          "text": [
            "INFO:tensorflow:Reloading Oracle from existing project my_dir/stock_predv1/oracle.json\n",
            "WARNING:tensorflow:Layer lstm will not use cuDNN kernel since it doesn't meet the cuDNN kernel criteria. It will use generic GPU kernel as fallback when running on GPU\n",
            "INFO:tensorflow:Reloading Tuner from my_dir/stock_predv1/tuner0.json\n"
          ],
          "name": "stdout"
        }
      ]
    },
    {
      "cell_type": "code",
      "metadata": {
        "id": "m9uJJa_s4xPt"
      },
      "source": [
        "stop_early = tf.keras.callbacks.EarlyStopping(monitor='val_loss', patience=5)"
      ],
      "id": "m9uJJa_s4xPt",
      "execution_count": 18,
      "outputs": []
    },
    {
      "cell_type": "code",
      "metadata": {
        "colab": {
          "base_uri": "https://localhost:8080/"
        },
        "id": "zSufA_d-4zKl",
        "outputId": "313e7791-2d44-48b9-e9d1-381112a7a0a9"
      },
      "source": [
        "tuner.search(X_train, y_train, epochs=50, validation_split=0.2, callbacks=[stop_early])\n",
        "\n",
        "# Get the optimal hyperparameters\n",
        "best_hps=tuner.get_best_hyperparameters(num_trials=1)[0]\n",
        "\n",
        "print(f\"\"\"\n",
        "The hyperparameter search is complete. The optimal number of units in the first densely-connected\n",
        "layer is {best_hps.get('units')} and the optimal learning rate for the optimizer\n",
        "is {best_hps.get('learning_rate')}.\n",
        "\"\"\")"
      ],
      "id": "zSufA_d-4zKl",
      "execution_count": 19,
      "outputs": [
        {
          "output_type": "stream",
          "text": [
            "INFO:tensorflow:Oracle triggered exit\n",
            "\n",
            "The hyperparameter search is complete. The optimal number of units in the first densely-connected\n",
            "layer is 60 and the optimal learning rate for the optimizer\n",
            "is 0.001.\n",
            "\n"
          ],
          "name": "stdout"
        }
      ]
    },
    {
      "cell_type": "code",
      "metadata": {
        "colab": {
          "base_uri": "https://localhost:8080/"
        },
        "id": "Cz8GKKa545Jp",
        "outputId": "6541e777-baff-4cfb-ce79-6e78a89d346a"
      },
      "source": [
        "# Build the model with the optimal hyperparameters and train it on the data for 50 epochs\n",
        "model = tuner.hypermodel.build(best_hps)\n",
        "history = model.fit(X_train, y_train, epochs=50, validation_split=0.2)\n",
        "\n",
        "val_loss_per_epoch = history.history['val_loss']\n",
        "best_epoch = val_loss_per_epoch.index(min(val_loss_per_epoch))\n",
        "print('Best epoch: %d' % (best_epoch,))"
      ],
      "id": "Cz8GKKa545Jp",
      "execution_count": 20,
      "outputs": [
        {
          "output_type": "stream",
          "text": [
            "WARNING:tensorflow:Layer lstm will not use cuDNN kernel since it doesn't meet the cuDNN kernel criteria. It will use generic GPU kernel as fallback when running on GPU\n",
            "Epoch 1/50\n",
            "59/59 [==============================] - 13s 45ms/step - loss: 0.0198 - mse: 0.0366 - val_loss: 0.0011 - val_mse: 0.0031\n",
            "Epoch 2/50\n",
            "59/59 [==============================] - 1s 21ms/step - loss: 3.5754e-04 - mse: 8.4271e-04 - val_loss: 9.2761e-04 - val_mse: 0.0027\n",
            "Epoch 3/50\n",
            "59/59 [==============================] - 1s 21ms/step - loss: 2.9189e-04 - mse: 6.6449e-04 - val_loss: 0.0012 - val_mse: 0.0034\n",
            "Epoch 4/50\n",
            "59/59 [==============================] - 1s 21ms/step - loss: 3.4423e-04 - mse: 7.9057e-04 - val_loss: 8.3923e-04 - val_mse: 0.0024\n",
            "Epoch 5/50\n",
            "59/59 [==============================] - 1s 20ms/step - loss: 2.7313e-04 - mse: 6.3641e-04 - val_loss: 8.8791e-04 - val_mse: 0.0026\n",
            "Epoch 6/50\n",
            "59/59 [==============================] - 1s 21ms/step - loss: 2.3009e-04 - mse: 5.2952e-04 - val_loss: 6.6191e-04 - val_mse: 0.0019\n",
            "Epoch 7/50\n",
            "59/59 [==============================] - 1s 21ms/step - loss: 2.5154e-04 - mse: 5.8021e-04 - val_loss: 6.4265e-04 - val_mse: 0.0018\n",
            "Epoch 8/50\n",
            "59/59 [==============================] - 1s 21ms/step - loss: 2.0946e-04 - mse: 4.8442e-04 - val_loss: 7.4001e-04 - val_mse: 0.0021\n",
            "Epoch 9/50\n",
            "59/59 [==============================] - 1s 21ms/step - loss: 2.0930e-04 - mse: 4.9508e-04 - val_loss: 5.9972e-04 - val_mse: 0.0017\n",
            "Epoch 10/50\n",
            "59/59 [==============================] - 1s 21ms/step - loss: 2.0553e-04 - mse: 4.8383e-04 - val_loss: 5.3315e-04 - val_mse: 0.0015\n",
            "Epoch 11/50\n",
            "59/59 [==============================] - 1s 21ms/step - loss: 1.6916e-04 - mse: 3.8879e-04 - val_loss: 6.3132e-04 - val_mse: 0.0018\n",
            "Epoch 12/50\n",
            "59/59 [==============================] - 1s 21ms/step - loss: 1.7399e-04 - mse: 3.9918e-04 - val_loss: 5.4053e-04 - val_mse: 0.0015\n",
            "Epoch 13/50\n",
            "59/59 [==============================] - 1s 21ms/step - loss: 1.6920e-04 - mse: 3.9330e-04 - val_loss: 4.2958e-04 - val_mse: 0.0012\n",
            "Epoch 14/50\n",
            "59/59 [==============================] - 1s 21ms/step - loss: 1.4360e-04 - mse: 3.2804e-04 - val_loss: 3.9180e-04 - val_mse: 0.0011\n",
            "Epoch 15/50\n",
            "59/59 [==============================] - 1s 21ms/step - loss: 1.4156e-04 - mse: 3.1597e-04 - val_loss: 3.9095e-04 - val_mse: 0.0011\n",
            "Epoch 16/50\n",
            "59/59 [==============================] - 1s 21ms/step - loss: 1.3263e-04 - mse: 2.9582e-04 - val_loss: 3.4466e-04 - val_mse: 9.6581e-04\n",
            "Epoch 17/50\n",
            "59/59 [==============================] - 1s 20ms/step - loss: 1.2287e-04 - mse: 2.7793e-04 - val_loss: 3.6028e-04 - val_mse: 0.0010\n",
            "Epoch 18/50\n",
            "59/59 [==============================] - 1s 21ms/step - loss: 1.2057e-04 - mse: 2.7054e-04 - val_loss: 4.0007e-04 - val_mse: 0.0011\n",
            "Epoch 19/50\n",
            "59/59 [==============================] - 1s 20ms/step - loss: 1.5392e-04 - mse: 3.5006e-04 - val_loss: 2.7732e-04 - val_mse: 7.7741e-04\n",
            "Epoch 20/50\n",
            "59/59 [==============================] - 1s 21ms/step - loss: 9.0227e-05 - mse: 2.0225e-04 - val_loss: 2.9813e-04 - val_mse: 8.2902e-04\n",
            "Epoch 21/50\n",
            "59/59 [==============================] - 1s 20ms/step - loss: 1.0538e-04 - mse: 2.3682e-04 - val_loss: 6.5674e-04 - val_mse: 0.0018\n",
            "Epoch 22/50\n",
            "59/59 [==============================] - 1s 21ms/step - loss: 1.2875e-04 - mse: 2.9459e-04 - val_loss: 2.4599e-04 - val_mse: 6.8306e-04\n",
            "Epoch 23/50\n",
            "59/59 [==============================] - 1s 21ms/step - loss: 1.1783e-04 - mse: 2.6627e-04 - val_loss: 2.3067e-04 - val_mse: 6.4277e-04\n",
            "Epoch 24/50\n",
            "59/59 [==============================] - 1s 20ms/step - loss: 8.5834e-05 - mse: 1.8682e-04 - val_loss: 2.1695e-04 - val_mse: 6.0270e-04\n",
            "Epoch 25/50\n",
            "59/59 [==============================] - 1s 20ms/step - loss: 1.0167e-04 - mse: 2.2582e-04 - val_loss: 2.1995e-04 - val_mse: 6.1476e-04\n",
            "Epoch 26/50\n",
            "59/59 [==============================] - 1s 21ms/step - loss: 8.2667e-05 - mse: 1.8244e-04 - val_loss: 1.9676e-04 - val_mse: 5.4580e-04\n",
            "Epoch 27/50\n",
            "59/59 [==============================] - 1s 21ms/step - loss: 8.9393e-05 - mse: 2.0274e-04 - val_loss: 2.7839e-04 - val_mse: 7.7411e-04\n",
            "Epoch 28/50\n",
            "59/59 [==============================] - 1s 21ms/step - loss: 8.3557e-05 - mse: 1.9174e-04 - val_loss: 2.2152e-04 - val_mse: 6.1969e-04\n",
            "Epoch 29/50\n",
            "59/59 [==============================] - 1s 21ms/step - loss: 7.2578e-05 - mse: 1.6448e-04 - val_loss: 1.7522e-04 - val_mse: 4.8578e-04\n",
            "Epoch 30/50\n",
            "59/59 [==============================] - 1s 21ms/step - loss: 6.9929e-05 - mse: 1.5772e-04 - val_loss: 1.9882e-04 - val_mse: 5.5395e-04\n",
            "Epoch 31/50\n",
            "59/59 [==============================] - 1s 21ms/step - loss: 7.1688e-05 - mse: 1.6260e-04 - val_loss: 1.9848e-04 - val_mse: 5.5192e-04\n",
            "Epoch 32/50\n",
            "59/59 [==============================] - 1s 21ms/step - loss: 7.8663e-05 - mse: 1.7672e-04 - val_loss: 1.5996e-04 - val_mse: 4.4489e-04\n",
            "Epoch 33/50\n",
            "59/59 [==============================] - 1s 21ms/step - loss: 5.9567e-05 - mse: 1.2713e-04 - val_loss: 1.6471e-04 - val_mse: 4.5673e-04\n",
            "Epoch 34/50\n",
            "59/59 [==============================] - 1s 21ms/step - loss: 7.6586e-05 - mse: 1.7115e-04 - val_loss: 1.7952e-04 - val_mse: 4.9923e-04\n",
            "Epoch 35/50\n",
            "59/59 [==============================] - 1s 21ms/step - loss: 5.2254e-05 - mse: 1.1638e-04 - val_loss: 2.0079e-04 - val_mse: 5.5629e-04\n",
            "Epoch 36/50\n",
            "59/59 [==============================] - 1s 21ms/step - loss: 6.1553e-05 - mse: 1.3416e-04 - val_loss: 1.6105e-04 - val_mse: 4.4708e-04\n",
            "Epoch 37/50\n",
            "59/59 [==============================] - 1s 21ms/step - loss: 5.9377e-05 - mse: 1.3054e-04 - val_loss: 1.7625e-04 - val_mse: 4.8908e-04\n",
            "Epoch 38/50\n",
            "59/59 [==============================] - 1s 21ms/step - loss: 8.7071e-05 - mse: 1.9743e-04 - val_loss: 1.3483e-04 - val_mse: 3.7487e-04\n",
            "Epoch 39/50\n",
            "59/59 [==============================] - 1s 21ms/step - loss: 5.8279e-05 - mse: 1.2883e-04 - val_loss: 1.3653e-04 - val_mse: 3.8095e-04\n",
            "Epoch 40/50\n",
            "59/59 [==============================] - 1s 21ms/step - loss: 5.5747e-05 - mse: 1.2602e-04 - val_loss: 1.2422e-04 - val_mse: 3.4432e-04\n",
            "Epoch 41/50\n",
            "59/59 [==============================] - 1s 20ms/step - loss: 4.6828e-05 - mse: 1.0091e-04 - val_loss: 1.2859e-04 - val_mse: 3.5548e-04\n",
            "Epoch 42/50\n",
            "59/59 [==============================] - 1s 21ms/step - loss: 4.7314e-05 - mse: 1.0331e-04 - val_loss: 1.5120e-04 - val_mse: 4.1759e-04\n",
            "Epoch 43/50\n",
            "59/59 [==============================] - 1s 21ms/step - loss: 4.9685e-05 - mse: 1.0924e-04 - val_loss: 1.5927e-04 - val_mse: 4.3957e-04\n",
            "Epoch 44/50\n",
            "59/59 [==============================] - 1s 21ms/step - loss: 5.1899e-05 - mse: 1.1580e-04 - val_loss: 1.1922e-04 - val_mse: 3.2984e-04\n",
            "Epoch 45/50\n",
            "59/59 [==============================] - 1s 21ms/step - loss: 4.2830e-05 - mse: 9.4654e-05 - val_loss: 1.3320e-04 - val_mse: 3.6891e-04\n",
            "Epoch 46/50\n",
            "59/59 [==============================] - 1s 21ms/step - loss: 4.3294e-05 - mse: 9.6431e-05 - val_loss: 1.4703e-04 - val_mse: 4.1108e-04\n",
            "Epoch 47/50\n",
            "59/59 [==============================] - 1s 20ms/step - loss: 4.1925e-05 - mse: 9.2007e-05 - val_loss: 1.1441e-04 - val_mse: 3.1592e-04\n",
            "Epoch 48/50\n",
            "59/59 [==============================] - 1s 21ms/step - loss: 3.6369e-05 - mse: 7.9221e-05 - val_loss: 1.5151e-04 - val_mse: 4.2039e-04\n",
            "Epoch 49/50\n",
            "59/59 [==============================] - 1s 21ms/step - loss: 4.7578e-05 - mse: 1.0521e-04 - val_loss: 1.1546e-04 - val_mse: 3.1885e-04\n",
            "Epoch 50/50\n",
            "59/59 [==============================] - 1s 21ms/step - loss: 4.5350e-05 - mse: 1.0213e-04 - val_loss: 1.2239e-04 - val_mse: 3.4006e-04\n",
            "Best epoch: 46\n"
          ],
          "name": "stdout"
        }
      ]
    },
    {
      "cell_type": "code",
      "metadata": {
        "id": "Uw5NBwfMybJd"
      },
      "source": [
        "logdir = \"logs/scalars/\" + datetime.now().strftime(\"%Y%m%d-%H%M%S\")\n",
        "tensorboard_callback = keras.callbacks.TensorBoard(log_dir=logdir)"
      ],
      "id": "Uw5NBwfMybJd",
      "execution_count": 21,
      "outputs": []
    },
    {
      "cell_type": "code",
      "metadata": {
        "colab": {
          "base_uri": "https://localhost:8080/"
        },
        "id": "U7GjKbcc4_C1",
        "outputId": "2b01e743-0c30-4fc5-8057-aa25f00dcf0a"
      },
      "source": [
        "hypermodel = tuner.hypermodel.build(best_hps)\n",
        "\n",
        "# Retrain the model\n",
        "hypermodel.fit(X_train, y_train, epochs=best_epoch, callbacks=[tensorboard_callback],)"
      ],
      "id": "U7GjKbcc4_C1",
      "execution_count": 22,
      "outputs": [
        {
          "output_type": "stream",
          "text": [
            "WARNING:tensorflow:Layer lstm will not use cuDNN kernel since it doesn't meet the cuDNN kernel criteria. It will use generic GPU kernel as fallback when running on GPU\n",
            "Epoch 1/46\n",
            "73/73 [==============================] - 10s 33ms/step - loss: 0.1477 - mse: 0.2849\n",
            "Epoch 2/46\n",
            "73/73 [==============================] - 1s 19ms/step - loss: 0.1424 - mse: 0.2736\n",
            "Epoch 3/46\n",
            "73/73 [==============================] - 1s 18ms/step - loss: 0.1416 - mse: 0.2718\n",
            "Epoch 4/46\n",
            "73/73 [==============================] - 1s 19ms/step - loss: 0.1477 - mse: 0.2850\n",
            "Epoch 5/46\n",
            "73/73 [==============================] - 1s 19ms/step - loss: 0.1461 - mse: 0.2817\n",
            "Epoch 6/46\n",
            "73/73 [==============================] - 1s 19ms/step - loss: 0.1442 - mse: 0.2772\n",
            "Epoch 7/46\n",
            "73/73 [==============================] - 1s 19ms/step - loss: 0.1478 - mse: 0.2838\n",
            "Epoch 8/46\n",
            "73/73 [==============================] - 1s 19ms/step - loss: 0.1472 - mse: 0.2841\n",
            "Epoch 9/46\n",
            "73/73 [==============================] - 1s 19ms/step - loss: 0.1455 - mse: 0.2795\n",
            "Epoch 10/46\n",
            "73/73 [==============================] - 1s 19ms/step - loss: 0.1453 - mse: 0.2800\n",
            "Epoch 11/46\n",
            "73/73 [==============================] - 1s 19ms/step - loss: 0.1474 - mse: 0.2844\n",
            "Epoch 12/46\n",
            "73/73 [==============================] - 1s 19ms/step - loss: 0.1454 - mse: 0.2796\n",
            "Epoch 13/46\n",
            "73/73 [==============================] - 1s 19ms/step - loss: 0.1423 - mse: 0.2739\n",
            "Epoch 14/46\n",
            "73/73 [==============================] - 1s 18ms/step - loss: 0.1440 - mse: 0.2772\n",
            "Epoch 15/46\n",
            "73/73 [==============================] - 1s 19ms/step - loss: 0.1429 - mse: 0.2744\n",
            "Epoch 16/46\n",
            "73/73 [==============================] - 1s 19ms/step - loss: 0.1419 - mse: 0.2721\n",
            "Epoch 17/46\n",
            "73/73 [==============================] - 1s 19ms/step - loss: 0.1473 - mse: 0.2841\n",
            "Epoch 18/46\n",
            "73/73 [==============================] - 1s 18ms/step - loss: 0.1438 - mse: 0.2758\n",
            "Epoch 19/46\n",
            "73/73 [==============================] - 1s 19ms/step - loss: 0.1427 - mse: 0.2742\n",
            "Epoch 20/46\n",
            "73/73 [==============================] - 1s 19ms/step - loss: 0.1461 - mse: 0.2810\n",
            "Epoch 21/46\n",
            "73/73 [==============================] - 1s 19ms/step - loss: 0.1471 - mse: 0.2831\n",
            "Epoch 22/46\n",
            "73/73 [==============================] - 1s 19ms/step - loss: 0.1441 - mse: 0.2771\n",
            "Epoch 23/46\n",
            "73/73 [==============================] - 1s 19ms/step - loss: 0.1414 - mse: 0.2717\n",
            "Epoch 24/46\n",
            "73/73 [==============================] - 1s 18ms/step - loss: 0.1437 - mse: 0.2765\n",
            "Epoch 25/46\n",
            "73/73 [==============================] - 1s 18ms/step - loss: 0.1413 - mse: 0.2721\n",
            "Epoch 26/46\n",
            "73/73 [==============================] - 1s 19ms/step - loss: 0.1470 - mse: 0.2831\n",
            "Epoch 27/46\n",
            "73/73 [==============================] - 1s 19ms/step - loss: 0.1465 - mse: 0.2808\n",
            "Epoch 28/46\n",
            "73/73 [==============================] - 1s 19ms/step - loss: 0.1441 - mse: 0.2759\n",
            "Epoch 29/46\n",
            "73/73 [==============================] - 1s 18ms/step - loss: 0.1432 - mse: 0.2745\n",
            "Epoch 30/46\n",
            "73/73 [==============================] - 1s 19ms/step - loss: 0.1484 - mse: 0.2867\n",
            "Epoch 31/46\n",
            "73/73 [==============================] - 1s 18ms/step - loss: 0.1424 - mse: 0.2746\n",
            "Epoch 32/46\n",
            "73/73 [==============================] - 1s 18ms/step - loss: 0.1408 - mse: 0.2701\n",
            "Epoch 33/46\n",
            "73/73 [==============================] - 1s 18ms/step - loss: 0.1431 - mse: 0.2751\n",
            "Epoch 34/46\n",
            "73/73 [==============================] - 1s 19ms/step - loss: 0.1448 - mse: 0.2784\n",
            "Epoch 35/46\n",
            "73/73 [==============================] - 1s 19ms/step - loss: 0.1431 - mse: 0.2749\n",
            "Epoch 36/46\n",
            "73/73 [==============================] - 1s 19ms/step - loss: 0.1438 - mse: 0.2768\n",
            "Epoch 37/46\n",
            "73/73 [==============================] - 1s 19ms/step - loss: 0.1444 - mse: 0.2773\n",
            "Epoch 38/46\n",
            "73/73 [==============================] - 1s 19ms/step - loss: 0.1425 - mse: 0.2734\n",
            "Epoch 39/46\n",
            "73/73 [==============================] - 1s 19ms/step - loss: 0.1431 - mse: 0.2755\n",
            "Epoch 40/46\n",
            "73/73 [==============================] - 1s 19ms/step - loss: 0.1505 - mse: 0.2906\n",
            "Epoch 41/46\n",
            "73/73 [==============================] - 1s 19ms/step - loss: 0.1463 - mse: 0.2814\n",
            "Epoch 42/46\n",
            "73/73 [==============================] - 1s 19ms/step - loss: 0.1470 - mse: 0.2827\n",
            "Epoch 43/46\n",
            "73/73 [==============================] - 1s 19ms/step - loss: 0.1480 - mse: 0.2845\n",
            "Epoch 44/46\n",
            "73/73 [==============================] - 1s 19ms/step - loss: 0.1449 - mse: 0.2798\n",
            "Epoch 45/46\n",
            "73/73 [==============================] - 1s 19ms/step - loss: 0.1443 - mse: 0.2773\n",
            "Epoch 46/46\n",
            "73/73 [==============================] - 1s 19ms/step - loss: 0.1491 - mse: 0.2877\n"
          ],
          "name": "stdout"
        },
        {
          "output_type": "execute_result",
          "data": {
            "text/plain": [
              "<tensorflow.python.keras.callbacks.History at 0x7f00b0a8e790>"
            ]
          },
          "metadata": {
            "tags": []
          },
          "execution_count": 22
        }
      ]
    },
    {
      "cell_type": "code",
      "metadata": {
        "colab": {
          "base_uri": "https://localhost:8080/"
        },
        "id": "accurate-paint",
        "scrolled": true,
        "outputId": "4fd966af-9706-427e-9c6a-b07bd8130290"
      },
      "source": [
        "inputs = scaler.fit_transform(df)\n",
        "inputs.shape"
      ],
      "id": "accurate-paint",
      "execution_count": 23,
      "outputs": [
        {
          "output_type": "execute_result",
          "data": {
            "text/plain": [
              "(370, 5)"
            ]
          },
          "metadata": {
            "tags": []
          },
          "execution_count": 23
        }
      ]
    },
    {
      "cell_type": "code",
      "metadata": {
        "colab": {
          "base_uri": "https://localhost:8080/"
        },
        "id": "intense-commerce",
        "outputId": "8d3473ea-6909-4ae6-e075-007b50dd3aad"
      },
      "source": [
        "X_test = []\n",
        "y_test = []\n",
        "\n",
        "for i in range(day_interval, inputs.shape[0]):\n",
        "    X_test.append(inputs[i-day_interval:i])\n",
        "    y_test.append(inputs[i, 0])\n",
        "\n",
        "X_test, y_test = np.array(X_test), np.array(y_test)\n",
        "X_test.shape, y_test.shape"
      ],
      "id": "intense-commerce",
      "execution_count": 24,
      "outputs": [
        {
          "output_type": "execute_result",
          "data": {
            "text/plain": [
              "((310, 60, 5), (310,))"
            ]
          },
          "metadata": {
            "tags": []
          },
          "execution_count": 24
        }
      ]
    },
    {
      "cell_type": "code",
      "metadata": {
        "colab": {
          "base_uri": "https://localhost:8080/"
        },
        "id": "r6XtghYO5N2m",
        "outputId": "f35c6723-ecdd-4123-9ba0-ddd82cc19f87"
      },
      "source": [
        "eval_result = hypermodel.evaluate(X_test, y_test)\n",
        "print(\"[test loss, test mse]:\", eval_result)"
      ],
      "id": "r6XtghYO5N2m",
      "execution_count": 25,
      "outputs": [
        {
          "output_type": "stream",
          "text": [
            "10/10 [==============================] - 1s 9ms/step - loss: 0.1354 - mse: 0.2719\n",
            "[test loss, test mse]: [0.13543887436389923, 0.27194923162460327]\n"
          ],
          "name": "stdout"
        }
      ]
    },
    {
      "cell_type": "code",
      "metadata": {
        "id": "appreciated-flight"
      },
      "source": [
        "y_pred = model.predict(X_test)"
      ],
      "id": "appreciated-flight",
      "execution_count": 26,
      "outputs": []
    },
    {
      "cell_type": "code",
      "metadata": {
        "colab": {
          "base_uri": "https://localhost:8080/"
        },
        "id": "nLDTI92opsx1",
        "outputId": "97ef2831-1047-49fa-e29b-3fda9a6cc2fd"
      },
      "source": [
        "y_pred.shape"
      ],
      "id": "nLDTI92opsx1",
      "execution_count": 27,
      "outputs": [
        {
          "output_type": "execute_result",
          "data": {
            "text/plain": [
              "(310, 1)"
            ]
          },
          "metadata": {
            "tags": []
          },
          "execution_count": 27
        }
      ]
    },
    {
      "cell_type": "code",
      "metadata": {
        "colab": {
          "base_uri": "https://localhost:8080/"
        },
        "id": "SUvbHdahxTAH",
        "outputId": "04f3f40e-ff8c-4091-d2b5-9c802aa07d8a"
      },
      "source": [
        "#Put last 60 day price to a input\n",
        "tmr = np.array([inputs[-60:]])\n",
        "tmr.shape"
      ],
      "id": "SUvbHdahxTAH",
      "execution_count": 28,
      "outputs": [
        {
          "output_type": "execute_result",
          "data": {
            "text/plain": [
              "(1, 60, 5)"
            ]
          },
          "metadata": {
            "tags": []
          },
          "execution_count": 28
        }
      ]
    },
    {
      "cell_type": "code",
      "metadata": {
        "colab": {
          "base_uri": "https://localhost:8080/"
        },
        "id": "multiple-breakfast",
        "outputId": "b4e91ce7-3463-4dc4-e879-72a2a98c38dc"
      },
      "source": [
        "#denormalization\n",
        "scale = 1/scaler.scale_[0]\n",
        "scale"
      ],
      "id": "multiple-breakfast",
      "execution_count": 29,
      "outputs": [
        {
          "output_type": "execute_result",
          "data": {
            "text/plain": [
              "845.4200060000001"
            ]
          },
          "metadata": {
            "tags": []
          },
          "execution_count": 29
        }
      ]
    },
    {
      "cell_type": "code",
      "metadata": {
        "id": "chubby-constitution"
      },
      "source": [
        "#denormalization\n",
        "y_pred = y_pred*scale\n",
        "y_test = y_test*scale"
      ],
      "id": "chubby-constitution",
      "execution_count": 30,
      "outputs": []
    },
    {
      "cell_type": "code",
      "metadata": {
        "colab": {
          "base_uri": "https://localhost:8080/"
        },
        "id": "Pd79rG_qheDB",
        "outputId": "5841c52c-99e4-449b-cbaf-e87673604773"
      },
      "source": [
        "y_pred.shape,y_test.shape"
      ],
      "id": "Pd79rG_qheDB",
      "execution_count": 31,
      "outputs": [
        {
          "output_type": "execute_result",
          "data": {
            "text/plain": [
              "((310, 1), (310,))"
            ]
          },
          "metadata": {
            "tags": []
          },
          "execution_count": 31
        }
      ]
    },
    {
      "cell_type": "code",
      "metadata": {
        "colab": {
          "base_uri": "https://localhost:8080/"
        },
        "id": "eRxQhXHnxJzM",
        "outputId": "8c2a25a8-4cfa-45bb-9237-fef8ca2082aa"
      },
      "source": [
        "#Last of data\n",
        "y_test[-1]"
      ],
      "id": "eRxQhXHnxJzM",
      "execution_count": 32,
      "outputs": [
        {
          "output_type": "execute_result",
          "data": {
            "text/plain": [
              "567.040001"
            ]
          },
          "metadata": {
            "tags": []
          },
          "execution_count": 32
        }
      ]
    },
    {
      "cell_type": "code",
      "metadata": {
        "colab": {
          "base_uri": "https://localhost:8080/"
        },
        "id": "h6H6OlYpy1wo",
        "outputId": "cae67371-6599-4075-e3d5-2bfe315d50fd"
      },
      "source": [
        "#Last of chart predict result\n",
        "y_pred[-1][0]"
      ],
      "id": "h6H6OlYpy1wo",
      "execution_count": 33,
      "outputs": [
        {
          "output_type": "execute_result",
          "data": {
            "text/plain": [
              "589.1022"
            ]
          },
          "metadata": {
            "tags": []
          },
          "execution_count": 33
        }
      ]
    },
    {
      "cell_type": "code",
      "metadata": {
        "colab": {
          "base_uri": "https://localhost:8080/"
        },
        "id": "XAUJBUgiyGSt",
        "outputId": "d1fc991d-1cb5-45e6-eb13-03c2d9b56286"
      },
      "source": [
        "print(\"the next day price\")\n",
        "print(model.predict(tmr)[0][0]*scale)"
      ],
      "id": "XAUJBUgiyGSt",
      "execution_count": 34,
      "outputs": [
        {
          "output_type": "stream",
          "text": [
            "the next day price\n",
            "570.4762500289693\n"
          ],
          "name": "stdout"
        }
      ]
    },
    {
      "cell_type": "code",
      "metadata": {
        "colab": {
          "base_uri": "https://localhost:8080/",
          "height": 567
        },
        "id": "parental-secret",
        "outputId": "2ed83e93-d81b-4982-bf49-4694c8c361f9"
      },
      "source": [
        "# Visualising the results\n",
        "plt.figure(figsize=(16,9))\n",
        "plt.plot(y_test, color = 'red', label = 'Real Stock Price')\n",
        "plt.plot(y_pred, color = 'blue', label = 'Predicted Stock Price')\n",
        "plt.title('Stock Price Prediction')\n",
        "plt.xlabel('Time')\n",
        "plt.ylabel('Stock Price')\n",
        "plt.legend()\n",
        "plt.show()"
      ],
      "id": "parental-secret",
      "execution_count": 35,
      "outputs": [
        {
          "output_type": "display_data",
          "data": {
            "image/png": "[encoded data removed]",
            "text/plain": [
              "<Figure size 1152x648 with 1 Axes>"
            ]
          },
          "metadata": {
            "tags": [],
            "needs_background": "light"
          }
        }
      ]
    },
    {
      "cell_type": "code",
      "metadata": {
        "colab": {
          "base_uri": "https://localhost:8080/",
          "height": 858
        },
        "id": "Y-wZqBgXtCNC",
        "outputId": "20fbd221-656f-4af7-afd8-772d21dec559"
      },
      "source": [
        "!kill 9936\n",
        "%load_ext tensorboard\n",
        "%tensorboard --logdir my_dir"
      ],
      "id": "Y-wZqBgXtCNC",
      "execution_count": 36,
      "outputs": [
        {
          "output_type": "stream",
          "text": [
            "/bin/bash: line 0: kill: (9936) - No such process\n"
          ],
          "name": "stdout"
        },
        {
          "output_type": "display_data",
          "data": {
            "text/plain": [
              "Reusing TensorBoard on port 6006 (pid 644), started 0:07:54 ago. (Use '!kill 644' to kill it.)"
            ]
          },
          "metadata": {
            "tags": []
          }
        },
        {
          "output_type": "display_data",
          "data": {
            "application/javascript": [
              "\n",
              "        (async () => {\n",
              "            const url = new URL(await google.colab.kernel.proxyPort(6006, {'cache': true}));\n",
              "            url.searchParams.set('tensorboardColab', 'true');\n",
              "            const iframe = document.createElement('iframe');\n",
              "            iframe.src = url;\n",
              "            iframe.setAttribute('width', '100%');\n",
              "            iframe.setAttribute('height', '800');\n",
              "            iframe.setAttribute('frameborder', 0);\n",
              "            document.body.appendChild(iframe);\n",
              "        })();\n",
              "    "
            ],
            "text/plain": [
              "<IPython.core.display.Javascript object>"
            ]
          },
          "metadata": {
            "tags": []
          }
        }
      ]
    }
  ]
}